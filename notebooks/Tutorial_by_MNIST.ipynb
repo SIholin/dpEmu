{
 "cells": [
  {
   "cell_type": "markdown",
   "metadata": {},
   "source": [
    "# Getting started with dpEmu"
   ]
  },
  {
   "cell_type": "markdown",
   "metadata": {},
   "source": [
    "Let's start by importing some of the packages, classes and functions that we will use in the tutorial."
   ]
  },
  {
   "cell_type": "code",
   "execution_count": 50,
   "metadata": {},
   "outputs": [],
   "source": [
    "import numpy as np\n",
    "import matplotlib.pyplot as plt\n",
    "from dpemu.dataset_utils import load_mnist\n",
    "from dpemu.nodes import Array, Series\n",
    "from dpemu.problemgenerator.filters import GaussianNoise, Missing"
   ]
  },
  {
   "cell_type": "markdown",
   "metadata": {},
   "source": [
    "In this tutorial we will be using the famous MNIST dataset of handwritten digits. DpEmu provides a convenience function for downloading the dataset. "
   ]
  },
  {
   "cell_type": "code",
   "execution_count": 32,
   "metadata": {},
   "outputs": [],
   "source": [
    "x, y, _, _ = load_mnist()"
   ]
  },
  {
   "cell_type": "markdown",
   "metadata": {},
   "source": [
    "It's a good idea to start by exploring the shape and the data type as well as the minimimun and maximum values of the input data:"
   ]
  },
  {
   "cell_type": "code",
   "execution_count": 26,
   "metadata": {},
   "outputs": [
    {
     "name": "stdout",
     "output_type": "stream",
     "text": [
      "shape: (70000, 784)\n",
      "dtype: float64\n",
      "min: 0.0, max: 255.0\n"
     ]
    }
   ],
   "source": [
    "print(f\"shape: {x.shape}\")\n",
    "print(f\"dtype: {x.dtype}\")\n",
    "print(f\"min: {x.min()}, max: {x.max()}\")"
   ]
  },
  {
   "cell_type": "markdown",
   "metadata": {},
   "source": [
    "Now let's do the same for the output data:"
   ]
  },
  {
   "cell_type": "code",
   "execution_count": 30,
   "metadata": {},
   "outputs": [
    {
     "name": "stdout",
     "output_type": "stream",
     "text": [
      "shape: (70000,)\n",
      "dtype: int64\n",
      "min: 0, max: 9\n"
     ]
    }
   ],
   "source": [
    "print(f\"shape: {y.shape}\")\n",
    "print(f\"dtype: {y.dtype}\")\n",
    "print(f\"min: {y.min()}, max: {y.max()}\")"
   ]
  },
  {
   "cell_type": "markdown",
   "metadata": {},
   "source": [
    "Now let's pick a data point at random and display the image and its label. "
   ]
  },
  {
   "cell_type": "code",
   "execution_count": 47,
   "metadata": {},
   "outputs": [
    {
     "name": "stdout",
     "output_type": "stream",
     "text": [
      "The label of the image at index 26699 is 7.\n"
     ]
    },
    {
     "data": {
      "image/png": "[encoded data removed]",
      "text/plain": [
       "<Figure size 288x288 with 1 Axes>"
      ]
     },
     "metadata": {
      "needs_background": "light"
     },
     "output_type": "display_data"
    }
   ],
   "source": [
    "ind = np.random.randint(x.shape[0])\n",
    "plt.matshow(x[ind].reshape((28, 28)), cmap='gray_r')\n",
    "print(f\"The label of the image at index {ind} is {y[ind]}.\")"
   ]
  },
  {
   "cell_type": "markdown",
   "metadata": {},
   "source": [
    "Now that we know our data – superficially at least – we can start adding errors. First we must model the shape of the data as a tree. If that sounds complicated, don't worry – it's ridiculously easy!\n",
    "\n",
    "Since the inputs are an indexed collection of images, it's natural to represent them as a series of arrays, each array corresponding to a single image. Let's do just that:"
   ]
  },
  {
   "cell_type": "code",
   "execution_count": 51,
   "metadata": {},
   "outputs": [],
   "source": [
    "image_node = Array()\n",
    "series_node = Series(image_node)"
   ]
  },
  {
   "cell_type": "markdown",
   "metadata": {},
   "source": [
    "The Series node is the root of the tree, and the Array node is its only child.\n",
    "\n",
    "We can now add one or more error sources. Error sources are known as Filters in dpEmu parlance, and they can be attached to Array nodes (and indeed some other kinds of nodes which we will not discuss in this tutorial). "
   ]
  },
  {
   "cell_type": "code",
   "execution_count": 52,
   "metadata": {},
   "outputs": [],
   "source": [
    "gaussian_noise_source = GaussianNoise(\"mean\", \"std\")\n",
    "image_node.addfilter(gaussian_noise_source)"
   ]
  },
  {
   "cell_type": "markdown",
   "metadata": {},
   "source": [
    "The GaussianNoise Filter does exactly what it sounds like: it adds noise drawn from a Normal distribution. The constructor takes two String arguments – namely, identifiers for the parameters (the mean and the standard deviation) of the distribution. The values of these parameters will be provided later.\n",
    "\n",
    "Let's take a small subset of the data and try applying our error generating tree!"
   ]
  },
  {
   "cell_type": "code",
   "execution_count": 67,
   "metadata": {},
   "outputs": [],
   "source": [
    "n = 1000\n",
    "x_subset = x[:n]\n",
    "\n",
    "params = {\"mean\": 0.0, \"std\": 20.0}\n",
    "subset_with_errors = series_node.generate_error(x_subset, params)"
   ]
  },
  {
   "cell_type": "code",
   "execution_count": 68,
   "metadata": {},
   "outputs": [
    {
     "data": {
      "text/plain": [
       "<matplotlib.image.AxesImage at 0x7fa16098f860>"
      ]
     },
     "execution_count": 68,
     "metadata": {},
     "output_type": "execute_result"
    },
    {
     "data": {
      "image/png": "[encoded data removed]",
      "text/plain": [
       "<Figure size 288x288 with 1 Axes>"
      ]
     },
     "metadata": {
      "needs_background": "light"
     },
     "output_type": "display_data"
    }
   ],
   "source": [
    "plt.matshow(subset_with_errors[42].reshape((28, 28)), cmap='gray_r')"
   ]
  },
  {
   "cell_type": "code",
   "execution_count": null,
   "metadata": {},
   "outputs": [],
   "source": []
  }
 ],
 "metadata": {
  "kernelspec": {
   "display_name": "Python 3",
   "language": "python",
   "name": "python3"
  },
  "language_info": {
   "codemirror_mode": {
    "name": "ipython",
    "version": 3
   },
   "file_extension": ".py",
   "mimetype": "text/x-python",
   "name": "python",
   "nbconvert_exporter": "python",
   "pygments_lexer": "ipython3",
   "version": "3.6.8"
  }
 },
 "nbformat": 4,
 "nbformat_minor": 2
}
