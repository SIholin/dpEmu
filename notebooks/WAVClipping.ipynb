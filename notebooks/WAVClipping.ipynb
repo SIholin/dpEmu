{
 "cells": [
  {
   "cell_type": "code",
   "execution_count": null,
   "metadata": {},
   "outputs": [],
   "source": [
    "import sys\n",
    "sys.path.append('..')\n",
    "import os\n",
    "import numpy as np\n",
    "from scipy.io.wavfile import read, write\n",
    "from src.problemgenerator.series import Series\n",
    "from src.problemgenerator.tuple import Tuple\n",
    "from src.problemgenerator.filters import ClipWAV, ApplyToTuple"
   ]
  },
  {
   "cell_type": "code",
   "execution_count": null,
   "metadata": {},
   "outputs": [],
   "source": [
    "data_path = os.path.expanduser('~/datasets/speech_dataset/off/')\n",
    "example_path = os.path.expanduser('~/dpEmu/src/examples/speech_commands')\n",
    "fs = [os.path.join(data_path, f) for f in os.listdir(data_path)]\n",
    "wavs = [read(f) for f in fs]"
   ]
  },
  {
   "cell_type": "code",
   "execution_count": null,
   "metadata": {},
   "outputs": [],
   "source": [
    "wav_node = Tuple()\n",
    "wav_node.addfilter(ApplyToTuple(ClipWAV(\"dyn_range\"), 1))\n",
    "root_node = Series(wav_node)\n",
    "clipped = root_node.generate_error(wavs, {\"dyn_range\": .3})"
   ]
  },
  {
   "cell_type": "code",
   "execution_count": null,
   "metadata": {},
   "outputs": [],
   "source": [
    "example_index = 42  # Arbitrarily chosen speech command example – try changing the index!\n",
    "!aplay {fs[example_index]}"
   ]
  },
  {
   "cell_type": "code",
   "execution_count": null,
   "metadata": {},
   "outputs": [],
   "source": [
    "!aplay clipped.wav"
   ]
  },
  {
   "cell_type": "code",
   "execution_count": null,
   "metadata": {},
   "outputs": [],
   "source": [
    "write('clipped.wav', 16000, clipped[example_index][1])"
   ]
  },
  {
   "cell_type": "code",
   "execution_count": null,
   "metadata": {
    "scrolled": true
   },
   "outputs": [],
   "source": [
    "scores_clean = !python {example_path}/label_wav.py \\\n",
    "--graph={example_path}/trained_model/my_frozen_graph.pb \\\n",
    "--labels={example_path}/trained_model/conv_labels.txt \\\n",
    "--wav={fs[example_index]}"
   ]
  },
  {
   "cell_type": "code",
   "execution_count": null,
   "metadata": {},
   "outputs": [],
   "source": [
    "scores_clipped = !python {example_path}/label_wav.py \\\n",
    "--graph={example_path}/trained_model/my_frozen_graph.pb \\\n",
    "--labels={example_path}/trained_model/conv_labels.txt \\\n",
    "--wav='clipped.wav'"
   ]
  },
  {
   "cell_type": "code",
   "execution_count": null,
   "metadata": {},
   "outputs": [],
   "source": [
    "scores_clean[-3:]"
   ]
  },
  {
   "cell_type": "code",
   "execution_count": null,
   "metadata": {},
   "outputs": [],
   "source": [
    "scores_clipped[-3:]"
   ]
  }
 ],
 "metadata": {
  "kernelspec": {
   "display_name": "Python 3",
   "language": "python",
   "name": "python3"
  },
  "language_info": {
   "codemirror_mode": {
    "name": "ipython",
    "version": 3
   },
   "file_extension": ".py",
   "mimetype": "text/x-python",
   "name": "python",
   "nbconvert_exporter": "python",
   "pygments_lexer": "ipython3",
   "version": "3.7.3"
  }
 },
 "nbformat": 4,
 "nbformat_minor": 2
}
