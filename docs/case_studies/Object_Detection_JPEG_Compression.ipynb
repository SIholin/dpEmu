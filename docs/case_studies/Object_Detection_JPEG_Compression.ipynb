{
 "cells": [
  {
   "cell_type": "markdown",
   "metadata": {
    "collapsed": true,
    "pycharm": {
     "name": "#%% md\n"
    }
   },
   "source": [
    "# Object detection: JPEG compression\n",
    "\n",
    "<div class=\"alert alert-info\">\n",
    "\n",
    "**Note:** Remember to install the [Object detection requirements](installation.rst#object-detection-example-and-notebooks-requirements).\n",
    "\n",
    "</div>\n",
    "\n",
    "<div class=\"alert alert-warning\">\n",
    "\n",
    "**Warning:** Runtimes can be several hours even on clusters.\n",
    "\n",
    "</div>"
   ]
  },
  {
   "cell_type": "markdown",
   "metadata": {
    "collapsed": false
   },
   "source": [
    "We compared the performance of models from FaceBook's Detectron project and YOLOv3 model from Joseph Redmon, when different error sources were added. The models from FaceBook's Detectron project were FasterRCNN, MaskRCNN and RetinaNet."
   ]
  },
  {
   "cell_type": "code",
   "execution_count": 1,
   "metadata": {
    "collapsed": false,
    "pycharm": {
     "name": "#%%\n"
    }
   },
   "outputs": [],
   "source": [
    "import re\n",
    "from abc import ABC, abstractmethod\n",
    "\n",
    "import matplotlib.pyplot as plt\n",
    "from PIL import Image\n",
    "\n",
    "from dpemu import runner\n",
    "from dpemu.dataset_utils import load_coco_val_2017\n",
    "from dpemu.filters.image import JPEG_Compression\n",
    "from dpemu.ml_utils import run_ml_module_using_cli, load_yolov3\n",
    "from dpemu.nodes import Array, Series\n",
    "from dpemu.plotting_utils import print_results_by_model, visualize_scores\n",
    "from dpemu.utils import get_project_root"
   ]
  },
  {
   "cell_type": "markdown",
   "source": [
    "We used 118 287 jpg images (COCO train2017) as the train set and 5000 images (COCO val2017) as the test set to calculate the mAP-50 scores."
   ],
   "metadata": {
    "collapsed": false
   }
  },
  {
   "cell_type": "code",
   "execution_count": null,
   "outputs": [],
   "source": [
    "def get_data():\n",
    "    imgs, _, _, img_filenames = load_coco_val_2017()\n",
    "    return imgs, img_filenames"
   ],
   "metadata": {
    "collapsed": false,
    "pycharm": {
     "name": "#%%\n"
    }
   }
  },
  {
   "cell_type": "markdown",
   "metadata": {
    "collapsed": false
   },
   "source": []
  },
  {
   "cell_type": "code",
   "execution_count": 2,
   "metadata": {
    "collapsed": false,
    "pycharm": {
     "name": "#%%\n"
    }
   },
   "outputs": [],
   "source": [
    "def get_err_root_node():\n",
    "    err_node = Array()\n",
    "    err_root_node = Series(err_node)\n",
    "    err_node.addfilter(JPEG_Compression(\"quality\"))\n",
    "    return err_root_node"
   ]
  },
  {
   "cell_type": "markdown",
   "metadata": {
    "collapsed": false
   },
   "source": [
    "## Examples from run_yolo_example.py\n",
    "\n",
    "### quality: 5\n",
    "\n",
    "![](imgs/20190830-001535-081715.jpg)\n",
    "\n",
    "### quality: 15\n",
    "\n",
    "![](imgs/20190830-001539-247861.jpg)\n",
    "\n",
    "### quality: 25\n",
    "\n",
    "![](imgs/20190830-001544-363746.jpg)\n",
    "\n",
    "### quality: 40\n",
    "\n",
    "![](imgs/20190830-001549-630752.jpg)"
   ]
  },
  {
   "cell_type": "code",
   "execution_count": 3,
   "metadata": {
    "collapsed": false,
    "pycharm": {
     "name": "#%%\n"
    }
   },
   "outputs": [],
   "source": [
    "def get_err_params_list():\n",
    "    return [{\"quality\": q} for q in range(5, 45, 5)]"
   ]
  },
  {
   "cell_type": "markdown",
   "metadata": {
    "collapsed": false
   },
   "source": []
  },
  {
   "cell_type": "code",
   "execution_count": 4,
   "metadata": {
    "collapsed": false,
    "pycharm": {
     "name": "#%%\n"
    }
   },
   "outputs": [],
   "source": [
    "class Preprocessor:\n",
    "\n",
    "    def run(self, _, imgs, params):\n",
    "        img_filenames = params[\"img_filenames\"]\n",
    "\n",
    "        for i, img_arr in enumerate(imgs):\n",
    "            img = Image.fromarray(img_arr)\n",
    "            path_to_img = f\"{get_project_root()}/tmp/val2017/\" + img_filenames[i]\n",
    "            img.save(path_to_img, \"jpeg\", quality=100)\n",
    "\n",
    "        return None, imgs, {}"
   ]
  },
  {
   "cell_type": "markdown",
   "metadata": {
    "collapsed": false
   },
   "source": [
    "Detectron's model zoo had pretrained weights for FasterRCNN, MaskRCNN and RetinaNet. YOLOv3's weights were trained by us, using the Kale cluster of University of Helsinki. The training took approximately five days when two NVIDIA Tesla V100 GPUs were used."
   ]
  },
  {
   "cell_type": "code",
   "execution_count": 5,
   "metadata": {
    "collapsed": false,
    "pycharm": {
     "name": "#%%\n"
    }
   },
   "outputs": [],
   "source": [
    "class YOLOv3Model:\n",
    "\n",
    "    def run(self, _, imgs, params):\n",
    "        path_to_yolov3_weights, path_to_yolov3_cfg = load_yolov3()\n",
    "\n",
    "        cline = f\"{get_project_root()}/libs/darknet/darknet detector map {get_project_root()}/data/coco.data \\\n",
    "            {path_to_yolov3_cfg} {path_to_yolov3_weights}\"\n",
    "        out = run_ml_module_using_cli(cline, show_stdout=False)\n",
    "\n",
    "        match = re.search(r\"\\(mAP@0.50\\) = (\\d+\\.\\d+)\", out)\n",
    "        return {\"mAP-50\": round(float(match.group(1)), 3)}\n",
    "\n",
    "\n",
    "class AbstractDetectronModel(ABC):\n",
    "\n",
    "    def run(self, _, imgs, params):\n",
    "        path_to_cfg = self.get_path_to_cfg()\n",
    "        url_to_weights = self.get_url_to_weights()\n",
    "\n",
    "        cline = f\"\"\"{get_project_root()}/libs/Detectron/tools/test_net.py \\\n",
    "            --cfg {path_to_cfg} \\\n",
    "            TEST.WEIGHTS {url_to_weights} \\\n",
    "            NUM_GPUS 1 \\\n",
    "            TEST.DATASETS '(\"coco_2017_val\",)' \\\n",
    "            MODEL.MASK_ON False \\\n",
    "            OUTPUT_DIR {get_project_root()}/tmp \\\n",
    "            DOWNLOAD_CACHE {get_project_root()}/tmp\"\"\"\n",
    "        out = run_ml_module_using_cli(cline, show_stdout=False)\n",
    "\n",
    "        match = re.search(r\"IoU=0.50      \\| area=   all \\| maxDets=100 ] = (\\d+\\.\\d+)\", out)\n",
    "        return {\"mAP-50\": round(float(match.group(1)), 3)}\n",
    "\n",
    "    @abstractmethod\n",
    "    def get_path_to_cfg(self):\n",
    "        pass\n",
    "\n",
    "    @abstractmethod\n",
    "    def get_url_to_weights(self):\n",
    "        pass\n",
    "\n",
    "\n",
    "class FasterRCNNModel(AbstractDetectronModel):\n",
    "\n",
    "    def get_path_to_cfg(self):\n",
    "        return f\"{get_project_root()}/libs/Detectron/configs/12_2017_baselines/e2e_faster_rcnn_X-101-64x4d-FPN_1x.yaml\"\n",
    "\n",
    "    def get_url_to_weights(self):\n",
    "        return (\n",
    "            \"https://dl.fbaipublicfiles.com/detectron/35858015/12_2017_baselines/\"\n",
    "            \"e2e_faster_rcnn_X-101-64x4d-FPN_1x.yaml.01_40_54.1xc565DE/output/train/\"\n",
    "            \"coco_2014_train%3Acoco_2014_valminusminival/generalized_rcnn/model_final.pkl\"\n",
    "        )\n",
    "\n",
    "\n",
    "class MaskRCNNModel(AbstractDetectronModel):\n",
    "\n",
    "    def get_path_to_cfg(self):\n",
    "        return f\"{get_project_root()}/libs/Detectron/configs/12_2017_baselines/e2e_mask_rcnn_X-101-64x4d-FPN_1x.yaml\"\n",
    "\n",
    "    def get_url_to_weights(self):\n",
    "        return (\n",
    "            \"https://dl.fbaipublicfiles.com/detectron/36494496/12_2017_baselines/\"\n",
    "            \"e2e_mask_rcnn_X-101-64x4d-FPN_1x.yaml.07_50_11.fkwVtEvg/output/train/\"\n",
    "            \"coco_2014_train%3Acoco_2014_valminusminival/generalized_rcnn/model_final.pkl\"\n",
    "        )\n",
    "\n",
    "\n",
    "class RetinaNetModel(AbstractDetectronModel):\n",
    "\n",
    "    def get_path_to_cfg(self):\n",
    "        return f\"{get_project_root()}/libs/Detectron/configs/12_2017_baselines/retinanet_X-101-64x4d-FPN_1x.yaml\"\n",
    "\n",
    "    def get_url_to_weights(self):\n",
    "        return (\n",
    "            \"https://dl.fbaipublicfiles.com/detectron/36768875/12_2017_baselines/\"\n",
    "            \"retinanet_X-101-64x4d-FPN_1x.yaml.08_34_37.FSXgMpzP/output/train/\"\n",
    "            \"coco_2014_train%3Acoco_2014_valminusminival/retinanet/model_final.pkl\"\n",
    "        )"
   ]
  },
  {
   "cell_type": "markdown",
   "metadata": {
    "collapsed": false
   },
   "source": []
  },
  {
   "cell_type": "code",
   "execution_count": 6,
   "metadata": {
    "collapsed": false,
    "pycharm": {
     "name": "#%%\n"
    }
   },
   "outputs": [],
   "source": [
    "def get_model_params_dict_list():\n",
    "    return [\n",
    "        {\"model\": FasterRCNNModel, \"params_list\": [{}]},\n",
    "        {\"model\": MaskRCNNModel, \"params_list\": [{}]},\n",
    "        {\"model\": RetinaNetModel, \"params_list\": [{}]},\n",
    "        {\"model\": YOLOv3Model, \"params_list\": [{}]},\n",
    "    ]"
   ]
  },
  {
   "cell_type": "markdown",
   "metadata": {
    "collapsed": false
   },
   "source": []
  },
  {
   "cell_type": "code",
   "execution_count": 7,
   "metadata": {
    "collapsed": false,
    "pycharm": {
     "name": "#%%\n"
    }
   },
   "outputs": [],
   "source": [
    "def visualize(df):\n",
    "    visualize_scores(\n",
    "        df, \n",
    "        score_names=[\"mAP-50\"], \n",
    "        is_higher_score_better=[True], \n",
    "        err_param_name=\"quality\", \n",
    "        title=\"Object detection with JPEG compression\"\n",
    "    )\n",
    "    plt.show()"
   ]
  },
  {
   "cell_type": "markdown",
   "metadata": {
    "collapsed": false
   },
   "source": []
  },
  {
   "cell_type": "code",
   "execution_count": 8,
   "metadata": {
    "collapsed": false,
    "pycharm": {
     "name": "#%%\n"
    }
   },
   "outputs": [],
   "source": [
    "def main():\n",
    "    imgs, img_filenames = get_data()\n",
    "\n",
    "    df = runner.run(\n",
    "        train_data=None,\n",
    "        test_data=imgs,\n",
    "        preproc=Preprocessor,\n",
    "        preproc_params={\"img_filenames\": img_filenames},\n",
    "        err_root_node=get_err_root_node(),\n",
    "        err_params_list=get_err_params_list(),\n",
    "        model_params_dict_list=get_model_params_dict_list(),\n",
    "        n_processes=1\n",
    "    )\n",
    "\n",
    "    print_results_by_model(df)\n",
    "    visualize(df)"
   ]
  },
  {
   "cell_type": "markdown",
   "metadata": {
    "collapsed": false
   },
   "source": []
  },
  {
   "cell_type": "code",
   "execution_count": 9,
   "metadata": {
    "collapsed": false,
    "pycharm": {
     "name": "#%%\n"
    }
   },
   "outputs": [
    {
     "name": "stdout",
     "output_type": "stream",
     "text": [
      "loading annotations into memory...\n",
      "Done (t=0.54s)\n",
      "creating index...\n",
      "index created!\n"
     ]
    },
    {
     "name": "stderr",
     "output_type": "stream",
     "text": [
      "  0%|          | 0/8 [00:00<?, ?it/s]"
     ]
    },
    {
     "name": "stdout",
     "output_type": "stream",
     "text": [
      "\n",
      "\n",
      "\n",
      "\n"
     ]
    },
    {
     "name": "stderr",
     "output_type": "stream",
     "text": [
      " 12%|█▎        | 1/8 [48:22<5:38:35, 2902.14s/it]"
     ]
    },
    {
     "name": "stdout",
     "output_type": "stream",
     "text": [
      "\n",
      "\n",
      "\n",
      "\n"
     ]
    },
    {
     "name": "stderr",
     "output_type": "stream",
     "text": [
      " 25%|██▌       | 2/8 [1:37:02<4:50:44, 2907.49s/it]"
     ]
    },
    {
     "name": "stdout",
     "output_type": "stream",
     "text": [
      "\n",
      "\n",
      "\n",
      "\n"
     ]
    },
    {
     "name": "stderr",
     "output_type": "stream",
     "text": [
      " 38%|███▊      | 3/8 [2:26:01<4:03:06, 2917.21s/it]"
     ]
    },
    {
     "name": "stdout",
     "output_type": "stream",
     "text": [
      "\n",
      "\n",
      "\n",
      "\n"
     ]
    },
    {
     "name": "stderr",
     "output_type": "stream",
     "text": [
      " 50%|█████     | 4/8 [3:15:03<3:14:58, 2924.60s/it]"
     ]
    },
    {
     "name": "stdout",
     "output_type": "stream",
     "text": [
      "\n",
      "\n",
      "\n",
      "\n"
     ]
    },
    {
     "name": "stderr",
     "output_type": "stream",
     "text": [
      " 62%|██████▎   | 5/8 [4:04:14<2:26:37, 2932.38s/it]"
     ]
    },
    {
     "name": "stdout",
     "output_type": "stream",
     "text": [
      "\n",
      "\n",
      "\n",
      "\n"
     ]
    },
    {
     "name": "stderr",
     "output_type": "stream",
     "text": [
      " 75%|███████▌  | 6/8 [4:53:27<1:37:56, 2938.49s/it]"
     ]
    },
    {
     "name": "stdout",
     "output_type": "stream",
     "text": [
      "\n",
      "\n",
      "\n",
      "\n"
     ]
    },
    {
     "name": "stderr",
     "output_type": "stream",
     "text": [
      " 88%|████████▊ | 7/8 [5:42:35<49:01, 2941.60s/it]  "
     ]
    },
    {
     "name": "stdout",
     "output_type": "stream",
     "text": [
      "\n",
      "\n",
      "\n",
      "\n"
     ]
    },
    {
     "name": "stderr",
     "output_type": "stream",
     "text": [
      "100%|██████████| 8/8 [6:31:51<00:00, 2945.84s/it]\n"
     ]
    },
    {
     "name": "stdout",
     "output_type": "stream",
     "text": [
      "FasterRCNN #1\n"
     ]
    },
    {
     "data": {
      "text/html": [
       "<div>\n",
       "<style scoped>\n",
       "    .dataframe tbody tr th:only-of-type {\n",
       "        vertical-align: middle;\n",
       "    }\n",
       "\n",
       "    .dataframe tbody tr th {\n",
       "        vertical-align: top;\n",
       "    }\n",
       "\n",
       "    .dataframe thead th {\n",
       "        text-align: right;\n",
       "    }\n",
       "</style>\n",
       "<table border=\"1\" class=\"dataframe\">\n",
       "  <thead>\n",
       "    <tr style=\"text-align: right;\">\n",
       "      <th></th>\n",
       "      <th>mAP-50</th>\n",
       "      <th>quality</th>\n",
       "      <th>time_err</th>\n",
       "      <th>time_pre</th>\n",
       "      <th>time_mod</th>\n",
       "    </tr>\n",
       "  </thead>\n",
       "  <tbody>\n",
       "    <tr>\n",
       "      <th>0</th>\n",
       "      <td>0.092</td>\n",
       "      <td>5</td>\n",
       "      <td>64.709</td>\n",
       "      <td>122.873</td>\n",
       "      <td>808.970</td>\n",
       "    </tr>\n",
       "    <tr>\n",
       "      <th>1</th>\n",
       "      <td>0.277</td>\n",
       "      <td>10</td>\n",
       "      <td>66.442</td>\n",
       "      <td>127.487</td>\n",
       "      <td>809.532</td>\n",
       "    </tr>\n",
       "    <tr>\n",
       "      <th>2</th>\n",
       "      <td>0.407</td>\n",
       "      <td>15</td>\n",
       "      <td>68.678</td>\n",
       "      <td>134.865</td>\n",
       "      <td>811.471</td>\n",
       "    </tr>\n",
       "    <tr>\n",
       "      <th>3</th>\n",
       "      <td>0.479</td>\n",
       "      <td>20</td>\n",
       "      <td>70.196</td>\n",
       "      <td>137.164</td>\n",
       "      <td>813.800</td>\n",
       "    </tr>\n",
       "    <tr>\n",
       "      <th>4</th>\n",
       "      <td>0.523</td>\n",
       "      <td>25</td>\n",
       "      <td>70.890</td>\n",
       "      <td>139.103</td>\n",
       "      <td>814.348</td>\n",
       "    </tr>\n",
       "    <tr>\n",
       "      <th>5</th>\n",
       "      <td>0.550</td>\n",
       "      <td>30</td>\n",
       "      <td>72.191</td>\n",
       "      <td>142.072</td>\n",
       "      <td>812.131</td>\n",
       "    </tr>\n",
       "    <tr>\n",
       "      <th>6</th>\n",
       "      <td>0.566</td>\n",
       "      <td>35</td>\n",
       "      <td>73.478</td>\n",
       "      <td>144.595</td>\n",
       "      <td>812.938</td>\n",
       "    </tr>\n",
       "    <tr>\n",
       "      <th>7</th>\n",
       "      <td>0.576</td>\n",
       "      <td>40</td>\n",
       "      <td>74.204</td>\n",
       "      <td>145.890</td>\n",
       "      <td>813.014</td>\n",
       "    </tr>\n",
       "  </tbody>\n",
       "</table>\n",
       "</div>"
      ],
      "text/plain": [
       "   mAP-50  quality  time_err  time_pre  time_mod\n",
       "0   0.092        5    64.709   122.873   808.970\n",
       "1   0.277       10    66.442   127.487   809.532\n",
       "2   0.407       15    68.678   134.865   811.471\n",
       "3   0.479       20    70.196   137.164   813.800\n",
       "4   0.523       25    70.890   139.103   814.348\n",
       "5   0.550       30    72.191   142.072   812.131\n",
       "6   0.566       35    73.478   144.595   812.938\n",
       "7   0.576       40    74.204   145.890   813.014"
      ]
     },
     "metadata": {},
     "output_type": "display_data"
    },
    {
     "name": "stdout",
     "output_type": "stream",
     "text": [
      "MaskRCNN #1\n"
     ]
    },
    {
     "data": {
      "text/html": [
       "<div>\n",
       "<style scoped>\n",
       "    .dataframe tbody tr th:only-of-type {\n",
       "        vertical-align: middle;\n",
       "    }\n",
       "\n",
       "    .dataframe tbody tr th {\n",
       "        vertical-align: top;\n",
       "    }\n",
       "\n",
       "    .dataframe thead th {\n",
       "        text-align: right;\n",
       "    }\n",
       "</style>\n",
       "<table border=\"1\" class=\"dataframe\">\n",
       "  <thead>\n",
       "    <tr style=\"text-align: right;\">\n",
       "      <th></th>\n",
       "      <th>mAP-50</th>\n",
       "      <th>quality</th>\n",
       "      <th>time_err</th>\n",
       "      <th>time_pre</th>\n",
       "      <th>time_mod</th>\n",
       "    </tr>\n",
       "  </thead>\n",
       "  <tbody>\n",
       "    <tr>\n",
       "      <th>0</th>\n",
       "      <td>0.105</td>\n",
       "      <td>5</td>\n",
       "      <td>64.709</td>\n",
       "      <td>122.873</td>\n",
       "      <td>796.518</td>\n",
       "    </tr>\n",
       "    <tr>\n",
       "      <th>1</th>\n",
       "      <td>0.301</td>\n",
       "      <td>10</td>\n",
       "      <td>66.442</td>\n",
       "      <td>127.487</td>\n",
       "      <td>809.272</td>\n",
       "    </tr>\n",
       "    <tr>\n",
       "      <th>2</th>\n",
       "      <td>0.431</td>\n",
       "      <td>15</td>\n",
       "      <td>68.678</td>\n",
       "      <td>134.865</td>\n",
       "      <td>810.367</td>\n",
       "    </tr>\n",
       "    <tr>\n",
       "      <th>3</th>\n",
       "      <td>0.498</td>\n",
       "      <td>20</td>\n",
       "      <td>70.196</td>\n",
       "      <td>137.164</td>\n",
       "      <td>808.612</td>\n",
       "    </tr>\n",
       "    <tr>\n",
       "      <th>4</th>\n",
       "      <td>0.539</td>\n",
       "      <td>25</td>\n",
       "      <td>70.890</td>\n",
       "      <td>139.103</td>\n",
       "      <td>811.646</td>\n",
       "    </tr>\n",
       "    <tr>\n",
       "      <th>5</th>\n",
       "      <td>0.563</td>\n",
       "      <td>30</td>\n",
       "      <td>72.191</td>\n",
       "      <td>142.072</td>\n",
       "      <td>811.534</td>\n",
       "    </tr>\n",
       "    <tr>\n",
       "      <th>6</th>\n",
       "      <td>0.576</td>\n",
       "      <td>35</td>\n",
       "      <td>73.478</td>\n",
       "      <td>144.595</td>\n",
       "      <td>810.514</td>\n",
       "    </tr>\n",
       "    <tr>\n",
       "      <th>7</th>\n",
       "      <td>0.587</td>\n",
       "      <td>40</td>\n",
       "      <td>74.204</td>\n",
       "      <td>145.890</td>\n",
       "      <td>812.432</td>\n",
       "    </tr>\n",
       "  </tbody>\n",
       "</table>\n",
       "</div>"
      ],
      "text/plain": [
       "   mAP-50  quality  time_err  time_pre  time_mod\n",
       "0   0.105        5    64.709   122.873   796.518\n",
       "1   0.301       10    66.442   127.487   809.272\n",
       "2   0.431       15    68.678   134.865   810.367\n",
       "3   0.498       20    70.196   137.164   808.612\n",
       "4   0.539       25    70.890   139.103   811.646\n",
       "5   0.563       30    72.191   142.072   811.534\n",
       "6   0.576       35    73.478   144.595   810.514\n",
       "7   0.587       40    74.204   145.890   812.432"
      ]
     },
     "metadata": {},
     "output_type": "display_data"
    },
    {
     "name": "stdout",
     "output_type": "stream",
     "text": [
      "RetinaNet #1\n"
     ]
    },
    {
     "data": {
      "text/html": [
       "<div>\n",
       "<style scoped>\n",
       "    .dataframe tbody tr th:only-of-type {\n",
       "        vertical-align: middle;\n",
       "    }\n",
       "\n",
       "    .dataframe tbody tr th {\n",
       "        vertical-align: top;\n",
       "    }\n",
       "\n",
       "    .dataframe thead th {\n",
       "        text-align: right;\n",
       "    }\n",
       "</style>\n",
       "<table border=\"1\" class=\"dataframe\">\n",
       "  <thead>\n",
       "    <tr style=\"text-align: right;\">\n",
       "      <th></th>\n",
       "      <th>mAP-50</th>\n",
       "      <th>quality</th>\n",
       "      <th>time_err</th>\n",
       "      <th>time_pre</th>\n",
       "      <th>time_mod</th>\n",
       "    </tr>\n",
       "  </thead>\n",
       "  <tbody>\n",
       "    <tr>\n",
       "      <th>0</th>\n",
       "      <td>0.122</td>\n",
       "      <td>5</td>\n",
       "      <td>64.709</td>\n",
       "      <td>122.873</td>\n",
       "      <td>1007.092</td>\n",
       "    </tr>\n",
       "    <tr>\n",
       "      <th>1</th>\n",
       "      <td>0.305</td>\n",
       "      <td>10</td>\n",
       "      <td>66.442</td>\n",
       "      <td>127.487</td>\n",
       "      <td>1009.791</td>\n",
       "    </tr>\n",
       "    <tr>\n",
       "      <th>2</th>\n",
       "      <td>0.412</td>\n",
       "      <td>15</td>\n",
       "      <td>68.678</td>\n",
       "      <td>134.865</td>\n",
       "      <td>1014.549</td>\n",
       "    </tr>\n",
       "    <tr>\n",
       "      <th>3</th>\n",
       "      <td>0.466</td>\n",
       "      <td>20</td>\n",
       "      <td>70.196</td>\n",
       "      <td>137.164</td>\n",
       "      <td>1011.720</td>\n",
       "    </tr>\n",
       "    <tr>\n",
       "      <th>4</th>\n",
       "      <td>0.500</td>\n",
       "      <td>25</td>\n",
       "      <td>70.890</td>\n",
       "      <td>139.103</td>\n",
       "      <td>1015.210</td>\n",
       "    </tr>\n",
       "    <tr>\n",
       "      <th>5</th>\n",
       "      <td>0.521</td>\n",
       "      <td>30</td>\n",
       "      <td>72.191</td>\n",
       "      <td>142.072</td>\n",
       "      <td>1014.208</td>\n",
       "    </tr>\n",
       "    <tr>\n",
       "      <th>6</th>\n",
       "      <td>0.535</td>\n",
       "      <td>35</td>\n",
       "      <td>73.478</td>\n",
       "      <td>144.595</td>\n",
       "      <td>1009.012</td>\n",
       "    </tr>\n",
       "    <tr>\n",
       "      <th>7</th>\n",
       "      <td>0.543</td>\n",
       "      <td>40</td>\n",
       "      <td>74.204</td>\n",
       "      <td>145.890</td>\n",
       "      <td>1010.712</td>\n",
       "    </tr>\n",
       "  </tbody>\n",
       "</table>\n",
       "</div>"
      ],
      "text/plain": [
       "   mAP-50  quality  time_err  time_pre  time_mod\n",
       "0   0.122        5    64.709   122.873  1007.092\n",
       "1   0.305       10    66.442   127.487  1009.791\n",
       "2   0.412       15    68.678   134.865  1014.549\n",
       "3   0.466       20    70.196   137.164  1011.720\n",
       "4   0.500       25    70.890   139.103  1015.210\n",
       "5   0.521       30    72.191   142.072  1014.208\n",
       "6   0.535       35    73.478   144.595  1009.012\n",
       "7   0.543       40    74.204   145.890  1010.712"
      ]
     },
     "metadata": {},
     "output_type": "display_data"
    },
    {
     "name": "stdout",
     "output_type": "stream",
     "text": [
      "YOLOv3 #1\n"
     ]
    },
    {
     "data": {
      "text/html": [
       "<div>\n",
       "<style scoped>\n",
       "    .dataframe tbody tr th:only-of-type {\n",
       "        vertical-align: middle;\n",
       "    }\n",
       "\n",
       "    .dataframe tbody tr th {\n",
       "        vertical-align: top;\n",
       "    }\n",
       "\n",
       "    .dataframe thead th {\n",
       "        text-align: right;\n",
       "    }\n",
       "</style>\n",
       "<table border=\"1\" class=\"dataframe\">\n",
       "  <thead>\n",
       "    <tr style=\"text-align: right;\">\n",
       "      <th></th>\n",
       "      <th>mAP-50</th>\n",
       "      <th>quality</th>\n",
       "      <th>time_err</th>\n",
       "      <th>time_pre</th>\n",
       "      <th>time_mod</th>\n",
       "    </tr>\n",
       "  </thead>\n",
       "  <tbody>\n",
       "    <tr>\n",
       "      <th>0</th>\n",
       "      <td>0.103</td>\n",
       "      <td>5</td>\n",
       "      <td>64.709</td>\n",
       "      <td>122.873</td>\n",
       "      <td>98.066</td>\n",
       "    </tr>\n",
       "    <tr>\n",
       "      <th>1</th>\n",
       "      <td>0.312</td>\n",
       "      <td>10</td>\n",
       "      <td>66.442</td>\n",
       "      <td>127.487</td>\n",
       "      <td>92.068</td>\n",
       "    </tr>\n",
       "    <tr>\n",
       "      <th>2</th>\n",
       "      <td>0.421</td>\n",
       "      <td>15</td>\n",
       "      <td>68.678</td>\n",
       "      <td>134.865</td>\n",
       "      <td>92.472</td>\n",
       "    </tr>\n",
       "    <tr>\n",
       "      <th>3</th>\n",
       "      <td>0.466</td>\n",
       "      <td>20</td>\n",
       "      <td>70.196</td>\n",
       "      <td>137.164</td>\n",
       "      <td>92.607</td>\n",
       "    </tr>\n",
       "    <tr>\n",
       "      <th>4</th>\n",
       "      <td>0.493</td>\n",
       "      <td>25</td>\n",
       "      <td>70.890</td>\n",
       "      <td>139.103</td>\n",
       "      <td>92.315</td>\n",
       "    </tr>\n",
       "    <tr>\n",
       "      <th>5</th>\n",
       "      <td>0.508</td>\n",
       "      <td>30</td>\n",
       "      <td>72.191</td>\n",
       "      <td>142.072</td>\n",
       "      <td>92.577</td>\n",
       "    </tr>\n",
       "    <tr>\n",
       "      <th>6</th>\n",
       "      <td>0.515</td>\n",
       "      <td>35</td>\n",
       "      <td>73.478</td>\n",
       "      <td>144.595</td>\n",
       "      <td>92.671</td>\n",
       "    </tr>\n",
       "    <tr>\n",
       "      <th>7</th>\n",
       "      <td>0.522</td>\n",
       "      <td>40</td>\n",
       "      <td>74.204</td>\n",
       "      <td>145.890</td>\n",
       "      <td>92.401</td>\n",
       "    </tr>\n",
       "  </tbody>\n",
       "</table>\n",
       "</div>"
      ],
      "text/plain": [
       "   mAP-50  quality  time_err  time_pre  time_mod\n",
       "0   0.103        5    64.709   122.873    98.066\n",
       "1   0.312       10    66.442   127.487    92.068\n",
       "2   0.421       15    68.678   134.865    92.472\n",
       "3   0.466       20    70.196   137.164    92.607\n",
       "4   0.493       25    70.890   139.103    92.315\n",
       "5   0.508       30    72.191   142.072    92.577\n",
       "6   0.515       35    73.478   144.595    92.671\n",
       "7   0.522       40    74.204   145.890    92.401"
      ]
     },
     "metadata": {},
     "output_type": "display_data"
    },
    {
     "data": {
      "image/png": "[encoded data removed]",
      "text/plain": [
       "<Figure size 360x288 with 1 Axes>"
      ]
     },
     "metadata": {
      "needs_background": "light"
     },
     "output_type": "display_data"
    }
   ],
   "source": [
    "main()"
   ]
  },
  {
   "cell_type": "markdown",
   "metadata": {
    "collapsed": false
   },
   "source": [
    "The notebook for this case study can be found [here](https://github.com/dpEmu/dpEmu/blob/master/docs/case_studies/Object_Detection_JPEG_Compression.ipynb)."
   ]
  }
 ],
 "metadata": {
  "kernelspec": {
   "display_name": "Python 3",
   "language": "python",
   "name": "python3"
  },
  "language_info": {
   "codemirror_mode": {
    "name": "ipython",
    "version": 3
   },
   "file_extension": ".py",
   "mimetype": "text/x-python",
   "name": "python",
   "nbconvert_exporter": "python",
   "pygments_lexer": "ipython3",
   "version": "3.7.0"
  },
  "pycharm": {
   "stem_cell": {
    "cell_type": "raw",
    "source": [],
    "metadata": {
     "collapsed": false
    }
   }
  }
 },
 "nbformat": 4,
 "nbformat_minor": 0
}