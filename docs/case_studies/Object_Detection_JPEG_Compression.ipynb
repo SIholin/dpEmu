{
 "cells": [
  {
   "cell_type": "markdown",
   "metadata": {
    "collapsed": true,
    "pycharm": {
     "name": "#%% md\n"
    }
   },
   "source": [
    "# Object detection: JPEG compression"
   ]
  },
  {
   "cell_type": "markdown",
   "metadata": {
    "collapsed": false
   },
   "source": []
  },
  {
   "cell_type": "code",
   "execution_count": 1,
   "metadata": {
    "collapsed": false,
    "pycharm": {
     "name": "#%%\n"
    }
   },
   "outputs": [],
   "source": [
    "import re\n",
    "from abc import ABC, abstractmethod\n",
    "\n",
    "import matplotlib.pyplot as plt\n",
    "from PIL import Image\n",
    "\n",
    "from dpemu import runner\n",
    "from dpemu.dataset_utils import load_coco_val_2017\n",
    "from dpemu.filters.image import JPEG_Compression\n",
    "from dpemu.ml_utils import run_ml_module_using_cli, load_yolov3\n",
    "from dpemu.nodes import Array, Series\n",
    "from dpemu.plotting_utils import print_results_by_model, visualize_scores\n",
    "from dpemu.utils import get_project_root"
   ]
  },
  {
   "cell_type": "markdown",
   "metadata": {
    "collapsed": false
   },
   "source": []
  },
  {
   "cell_type": "code",
   "execution_count": 2,
   "metadata": {
    "collapsed": false,
    "pycharm": {
     "name": "#%%\n"
    }
   },
   "outputs": [],
   "source": [
    "def get_err_root_node():\n",
    "    err_node = Array()\n",
    "    err_root_node = Series(err_node)\n",
    "    err_node.addfilter(JPEG_Compression(\"quality\"))\n",
    "    return err_root_node"
   ]
  },
  {
   "cell_type": "markdown",
   "metadata": {
    "collapsed": false
   },
   "source": []
  },
  {
   "cell_type": "code",
   "execution_count": 3,
   "metadata": {
    "collapsed": false,
    "pycharm": {
     "name": "#%%\n"
    }
   },
   "outputs": [],
   "source": [
    "def get_err_params_list():\n",
    "    return [{\"quality\": q} for q in range(5, 45, 5)]"
   ]
  },
  {
   "cell_type": "markdown",
   "metadata": {
    "collapsed": false
   },
   "source": []
  },
  {
   "cell_type": "code",
   "execution_count": 4,
   "metadata": {
    "collapsed": false,
    "pycharm": {
     "name": "#%%\n"
    }
   },
   "outputs": [],
   "source": [
    "class Preprocessor:\n",
    "\n",
    "    def run(self, _, imgs, params):\n",
    "        img_filenames = params[\"img_filenames\"]\n",
    "\n",
    "        for i, img_arr in enumerate(imgs):\n",
    "            img = Image.fromarray(img_arr)\n",
    "            path_to_img = f\"{get_project_root()}/tmp/val2017/\" + img_filenames[i]\n",
    "            img.save(path_to_img, \"jpeg\", quality=100)\n",
    "\n",
    "        return None, imgs, {}"
   ]
  },
  {
   "cell_type": "markdown",
   "metadata": {
    "collapsed": false
   },
   "source": []
  },
  {
   "cell_type": "code",
   "execution_count": 5,
   "metadata": {
    "collapsed": false,
    "pycharm": {
     "name": "#%%\n"
    }
   },
   "outputs": [],
   "source": [
    "class YOLOv3Model:\n",
    "\n",
    "    def run(self, _, imgs, params):\n",
    "        path_to_yolov3_weights, path_to_yolov3_cfg = load_yolov3()\n",
    "\n",
    "        cline = f\"{get_project_root()}/libs/darknet/darknet detector map {get_project_root()}/data/coco.data \\\n",
    "            {path_to_yolov3_cfg} {path_to_yolov3_weights} -gpus 0,1\"\n",
    "        out = run_ml_module_using_cli(cline, show_stdout=False)\n",
    "\n",
    "        match = re.search(r\"\\(mAP@0.50\\) = (\\d+\\.\\d+)\", out)\n",
    "        return {\"mAP-50\": round(float(match.group(1)), 3)}\n",
    "\n",
    "\n",
    "class AbstractDetectronModel(ABC):\n",
    "\n",
    "    def run(self, _, imgs, params):\n",
    "        path_to_cfg = self.get_path_to_cfg()\n",
    "        url_to_weights = self.get_url_to_weights()\n",
    "\n",
    "        cline = f\"\"\"{get_project_root()}/libs/Detectron/tools/test_net.py \\\n",
    "            --cfg {path_to_cfg} \\\n",
    "            TEST.WEIGHTS {url_to_weights} \\\n",
    "            NUM_GPUS 2 \\\n",
    "            TEST.DATASETS '(\"coco_2017_val\",)' \\\n",
    "            MODEL.MASK_ON False \\\n",
    "            OUTPUT_DIR {get_project_root()}/tmp \\\n",
    "            DOWNLOAD_CACHE {get_project_root()}/tmp\"\"\"\n",
    "        out = run_ml_module_using_cli(cline, show_stdout=False)\n",
    "\n",
    "        match = re.search(r\"IoU=0.50      \\| area=   all \\| maxDets=100 ] = (\\d+\\.\\d+)\", out)\n",
    "        return {\"mAP-50\": round(float(match.group(1)), 3)}\n",
    "\n",
    "    @abstractmethod\n",
    "    def get_path_to_cfg(self):\n",
    "        pass\n",
    "\n",
    "    @abstractmethod\n",
    "    def get_url_to_weights(self):\n",
    "        pass\n",
    "\n",
    "\n",
    "class FasterRCNNModel(AbstractDetectronModel):\n",
    "\n",
    "    def get_path_to_cfg(self):\n",
    "        return f\"{get_project_root()}/libs/Detectron/configs/12_2017_baselines/e2e_faster_rcnn_X-101-64x4d-FPN_1x.yaml\"\n",
    "\n",
    "    def get_url_to_weights(self):\n",
    "        return (\n",
    "            \"https://dl.fbaipublicfiles.com/detectron/35858015/12_2017_baselines/\"\n",
    "            \"e2e_faster_rcnn_X-101-64x4d-FPN_1x.yaml.01_40_54.1xc565DE/output/train/\"\n",
    "            \"coco_2014_train%3Acoco_2014_valminusminival/generalized_rcnn/model_final.pkl\"\n",
    "        )\n",
    "\n",
    "\n",
    "class MaskRCNNModel(AbstractDetectronModel):\n",
    "\n",
    "    def get_path_to_cfg(self):\n",
    "        return f\"{get_project_root()}/libs/Detectron/configs/12_2017_baselines/e2e_mask_rcnn_X-101-64x4d-FPN_1x.yaml\"\n",
    "\n",
    "    def get_url_to_weights(self):\n",
    "        return (\n",
    "            \"https://dl.fbaipublicfiles.com/detectron/36494496/12_2017_baselines/\"\n",
    "            \"e2e_mask_rcnn_X-101-64x4d-FPN_1x.yaml.07_50_11.fkwVtEvg/output/train/\"\n",
    "            \"coco_2014_train%3Acoco_2014_valminusminival/generalized_rcnn/model_final.pkl\"\n",
    "        )\n",
    "\n",
    "\n",
    "class RetinaNetModel(AbstractDetectronModel):\n",
    "\n",
    "    def get_path_to_cfg(self):\n",
    "        return f\"{get_project_root()}/libs/Detectron/configs/12_2017_baselines/retinanet_X-101-64x4d-FPN_1x.yaml\"\n",
    "\n",
    "    def get_url_to_weights(self):\n",
    "        return (\n",
    "            \"https://dl.fbaipublicfiles.com/detectron/36768875/12_2017_baselines/\"\n",
    "            \"retinanet_X-101-64x4d-FPN_1x.yaml.08_34_37.FSXgMpzP/output/train/\"\n",
    "            \"coco_2014_train%3Acoco_2014_valminusminival/retinanet/model_final.pkl\"\n",
    "        )"
   ]
  },
  {
   "cell_type": "markdown",
   "metadata": {
    "collapsed": false
   },
   "source": []
  },
  {
   "cell_type": "code",
   "execution_count": 6,
   "metadata": {
    "collapsed": false,
    "pycharm": {
     "name": "#%%\n"
    }
   },
   "outputs": [],
   "source": [
    "def get_model_params_dict_list():\n",
    "    return [\n",
    "        {\"model\": FasterRCNNModel, \"params_list\": [{}]},\n",
    "        {\"model\": MaskRCNNModel, \"params_list\": [{}]},\n",
    "        {\"model\": RetinaNetModel, \"params_list\": [{}]},\n",
    "        {\"model\": YOLOv3Model, \"params_list\": [{}]},\n",
    "    ]"
   ]
  },
  {
   "cell_type": "markdown",
   "metadata": {
    "collapsed": false
   },
   "source": []
  },
  {
   "cell_type": "code",
   "execution_count": 7,
   "metadata": {
    "collapsed": false,
    "pycharm": {
     "name": "#%%\n"
    }
   },
   "outputs": [],
   "source": [
    "def visualize(df):\n",
    "    visualize_scores(\n",
    "        df, \n",
    "        score_names=[\"mAP-50\"], \n",
    "        is_higher_score_better=[True], \n",
    "        err_param_name=\"quality\", \n",
    "        title=\"Object detection with JPEG compression\"\n",
    "    )\n",
    "    plt.show()"
   ]
  },
  {
   "cell_type": "markdown",
   "metadata": {
    "collapsed": false
   },
   "source": []
  },
  {
   "cell_type": "code",
   "execution_count": 8,
   "metadata": {
    "collapsed": false,
    "pycharm": {
     "name": "#%%\n"
    }
   },
   "outputs": [],
   "source": [
    "def main():\n",
    "    imgs, _, _, img_filenames = load_coco_val_2017()\n",
    "\n",
    "    df = runner.run(\n",
    "        train_data=None,\n",
    "        test_data=imgs,\n",
    "        preproc=Preprocessor,\n",
    "        preproc_params={\"img_filenames\": img_filenames},\n",
    "        err_root_node=get_err_root_node(),\n",
    "        err_params_list=get_err_params_list(),\n",
    "        model_params_dict_list=get_model_params_dict_list(),\n",
    "        n_processes=1\n",
    "    )\n",
    "\n",
    "    print_results_by_model(df)\n",
    "    visualize(df)"
   ]
  },
  {
   "cell_type": "markdown",
   "metadata": {
    "collapsed": false
   },
   "source": []
  },
  {
   "cell_type": "code",
   "execution_count": 9,
   "metadata": {
    "collapsed": false,
    "pycharm": {
     "name": "#%%\n"
    }
   },
   "outputs": [
    {
     "name": "stdout",
     "output_type": "stream",
     "text": [
      "loading annotations into memory...\n",
      "Done (t=0.50s)\n",
      "creating index...\n",
      "index created!\n"
     ]
    },
    {
     "name": "stderr",
     "output_type": "stream",
     "text": [
      "  0%|          | 0/8 [00:00<?, ?it/s]"
     ]
    },
    {
     "name": "stdout",
     "output_type": "stream",
     "text": [
      "\n",
      "\n",
      "\n",
      "\n"
     ]
    },
    {
     "name": "stderr",
     "output_type": "stream",
     "text": [
      " 12%|█▎        | 1/8 [47:20<5:31:26, 2840.97s/it]"
     ]
    },
    {
     "name": "stdout",
     "output_type": "stream",
     "text": [
      "\n",
      "\n",
      "\n",
      "\n"
     ]
    },
    {
     "name": "stderr",
     "output_type": "stream",
     "text": [
      " 25%|██▌       | 2/8 [1:35:09<4:44:55, 2849.25s/it]"
     ]
    },
    {
     "name": "stdout",
     "output_type": "stream",
     "text": [
      "\n",
      "\n",
      "\n",
      "\n"
     ]
    },
    {
     "name": "stderr",
     "output_type": "stream",
     "text": [
      " 38%|███▊      | 3/8 [2:23:14<3:58:20, 2860.06s/it]"
     ]
    },
    {
     "name": "stdout",
     "output_type": "stream",
     "text": [
      "\n",
      "\n",
      "\n",
      "\n"
     ]
    },
    {
     "name": "stderr",
     "output_type": "stream",
     "text": [
      " 50%|█████     | 4/8 [3:11:23<3:11:14, 2868.64s/it]"
     ]
    },
    {
     "name": "stdout",
     "output_type": "stream",
     "text": [
      "\n",
      "\n",
      "\n",
      "\n"
     ]
    },
    {
     "name": "stderr",
     "output_type": "stream",
     "text": [
      " 62%|██████▎   | 5/8 [3:59:41<2:23:52, 2877.48s/it]"
     ]
    },
    {
     "name": "stdout",
     "output_type": "stream",
     "text": [
      "\n",
      "\n",
      "\n",
      "\n"
     ]
    },
    {
     "name": "stderr",
     "output_type": "stream",
     "text": [
      " 75%|███████▌  | 6/8 [4:47:59<1:36:07, 2883.70s/it]"
     ]
    },
    {
     "name": "stdout",
     "output_type": "stream",
     "text": [
      "\n",
      "\n",
      "\n",
      "\n"
     ]
    },
    {
     "name": "stderr",
     "output_type": "stream",
     "text": [
      " 88%|████████▊ | 7/8 [5:36:25<48:10, 2890.35s/it]  "
     ]
    },
    {
     "name": "stdout",
     "output_type": "stream",
     "text": [
      "\n",
      "\n",
      "\n",
      "\n"
     ]
    },
    {
     "name": "stderr",
     "output_type": "stream",
     "text": [
      "100%|██████████| 8/8 [6:25:00<00:00, 2897.82s/it]\n"
     ]
    },
    {
     "name": "stdout",
     "output_type": "stream",
     "text": [
      "FasterRCNN #1\n",
      "   mAP-50  quality   time_err    time_mod    time_pre\n",
      "0   0.092        5  64.443885  780.242487  103.676150\n",
      "1   0.277       10  65.485862  785.129362  111.861596\n",
      "2   0.407       15  67.534295  788.733282  115.009856\n",
      "3   0.479       20  69.387277  787.803190  120.601339\n",
      "4   0.523       25  70.760831  792.495927  125.358048\n",
      "5   0.550       30  71.202639  790.963840  126.772850\n",
      "6   0.566       35  72.855516  792.118108  129.560424\n",
      "7   0.576       40  73.704743  793.351511  130.206289\n",
      "MaskRCNN #1\n",
      "   mAP-50  quality   time_err    time_mod    time_pre\n",
      "0   0.105        5  64.443885  773.124245  103.676150\n",
      "1   0.301       10  65.485862  787.086713  111.861596\n",
      "2   0.431       15  67.534295  788.726326  115.009856\n",
      "3   0.498       20  69.387277  788.890870  120.601339\n",
      "4   0.539       25  70.760831  788.391382  125.358048\n",
      "5   0.563       30  71.202639  790.831081  126.772850\n",
      "6   0.576       35  72.855516  788.984116  129.560424\n",
      "7   0.587       40  73.704743  788.666991  130.206289\n",
      "RetinaNet #1\n",
      "   mAP-50  quality   time_err     time_mod    time_pre\n",
      "0   0.122        5  64.443885  1026.502612  103.676150\n",
      "1   0.305       10  65.485862  1030.270175  111.861596\n",
      "2   0.412       15  67.534295  1033.540259  115.009856\n",
      "3   0.466       20  69.387277  1030.815576  120.601339\n",
      "4   0.500       25  70.760831  1028.654852  125.358048\n",
      "5   0.521       30  71.202639  1027.192919  126.772850\n",
      "6   0.535       35  72.855516  1029.226208  129.560424\n",
      "7   0.543       40  73.704743  1028.340997  130.206289\n",
      "YOLOv3 #1\n",
      "   mAP-50  quality   time_err   time_mod    time_pre\n",
      "0   0.103        5  64.443885  89.035850  103.676150\n",
      "1   0.312       10  65.485862  83.188725  111.861596\n",
      "2   0.421       15  67.534295  85.532227  115.009856\n",
      "3   0.466       20  69.387277  85.632657  120.601339\n",
      "4   0.493       25  70.760831  85.473976  125.358048\n",
      "5   0.508       30  71.202639  86.110699  126.772850\n",
      "6   0.515       35  72.855516  86.285573  129.560424\n",
      "7   0.522       40  73.704743  85.404352  130.206289\n"
     ]
    },
    {
     "data": {
      "image/png": "[encoded data removed]",
      "text/plain": [
       "<Figure size 360x288 with 1 Axes>"
      ]
     },
     "metadata": {
      "needs_background": "light"
     },
     "output_type": "display_data"
    }
   ],
   "source": [
    "main()\n"
   ]
  }
 ],
 "metadata": {
  "kernelspec": {
   "display_name": "Python 3",
   "language": "python",
   "name": "python3"
  },
  "language_info": {
   "codemirror_mode": {
    "name": "ipython",
    "version": 3
   },
   "file_extension": ".py",
   "mimetype": "text/x-python",
   "name": "python",
   "nbconvert_exporter": "python",
   "pygments_lexer": "ipython3",
   "version": "3.7.0"
  },
  "pycharm": {
   "stem_cell": {
    "cell_type": "raw",
    "metadata": {
     "collapsed": false
    },
    "source": []
   }
  }
 },
 "nbformat": 4,
 "nbformat_minor": 0
}
