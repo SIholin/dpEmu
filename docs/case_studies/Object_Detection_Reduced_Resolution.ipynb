{
 "cells": [
  {
   "cell_type": "markdown",
   "metadata": {
    "collapsed": false
   },
   "source": [
    "# Object detection: Reduced resolution\n",
    "\n",
    "<div class=\"alert alert-info\">\n",
    "\n",
    "**Note:** [Object detection requirements](../installation.rst#object-detection-example-and-notebooks-requirements).\n",
    "\n",
    "</div>\n",
    "\n",
    "<div class=\"alert alert-warning\">\n",
    "\n",
    "**Warning:** Runtimes can be several hours even on clusters.\n",
    "\n",
    "</div>"
   ]
  },
  {
   "cell_type": "markdown",
   "metadata": {
    "collapsed": false
   },
   "source": [
    "We compared the performance of models from FaceBook's Detectron project and YOLOv3 model from Joseph Redmon, when different error sources were added. The models from FaceBook's Detectron project were FasterRCNN, MaskRCNN and RetinaNet."
   ]
  },
  {
   "cell_type": "code",
   "execution_count": 1,
   "metadata": {
    "collapsed": true,
    "pycharm": {
     "is_executing": false
    }
   },
   "outputs": [],
   "source": [
    "import re\n",
    "from abc import ABC, abstractmethod\n",
    "\n",
    "import matplotlib.pyplot as plt\n",
    "from PIL import Image\n",
    "\n",
    "from dpemu import runner\n",
    "from dpemu.dataset_utils import load_coco_val_2017\n",
    "from dpemu.filters.image import Resolution\n",
    "from dpemu.ml_utils import run_ml_module_using_cli, load_yolov3\n",
    "from dpemu.nodes import Array, Series\n",
    "from dpemu.plotting_utils import print_results_by_model, visualize_scores\n",
    "from dpemu.utils import get_project_root"
   ]
  },
  {
   "cell_type": "markdown",
   "metadata": {
    "collapsed": false
   },
   "source": [
    "We used 118 287 jpg images (COCO train2017) as the train set and 5000 images (COCO val2017) as the test set to calculate the mAP-50 scores."
   ]
  },
  {
   "cell_type": "code",
   "execution_count": 2,
   "metadata": {
    "collapsed": false,
    "pycharm": {
     "name": "#%%\n"
    }
   },
   "outputs": [],
   "source": [
    "def get_data():\n",
    "    imgs, _, _, img_filenames = load_coco_val_2017()\n",
    "    return imgs, img_filenames"
   ]
  },
  {
   "cell_type": "markdown",
   "metadata": {
    "collapsed": false
   },
   "source": []
  },
  {
   "cell_type": "code",
   "execution_count": 3,
   "metadata": {
    "collapsed": false,
    "pycharm": {
     "is_executing": false,
     "name": "#%%\n"
    }
   },
   "outputs": [],
   "source": [
    "def get_err_root_node():\n",
    "    err_node = Array()\n",
    "    err_root_node = Series(err_node)\n",
    "    err_node.addfilter(Resolution(\"k\"))\n",
    "    return err_root_node"
   ]
  },
  {
   "cell_type": "markdown",
   "metadata": {
    "collapsed": false
   },
   "source": [
    "## Examples from run_yolo_example.py\n",
    "\n",
    "### k: 1\n",
    "\n",
    "![](imgs/20190830-002021-010266.jpg)\n",
    "\n",
    "### k: 2\n",
    "\n",
    "![](imgs/20190830-002023-779479.jpg)\n",
    "\n",
    "### k: 3\n",
    "\n",
    "![](imgs/20190830-002026-484829.jpg)\n",
    "\n",
    "### k: 4\n",
    "\n",
    "![](imgs/20190830-002029-166444.jpg)\n"
   ]
  },
  {
   "cell_type": "code",
   "execution_count": 4,
   "metadata": {
    "collapsed": false,
    "pycharm": {
     "is_executing": false,
     "name": "#%%\n"
    }
   },
   "outputs": [],
   "source": [
    "def get_err_params_list():\n",
    "    return [{\"k\": k} for k in range(1, 5)]"
   ]
  },
  {
   "cell_type": "markdown",
   "metadata": {
    "collapsed": false
   },
   "source": []
  },
  {
   "cell_type": "code",
   "execution_count": 5,
   "metadata": {
    "collapsed": false,
    "pycharm": {
     "is_executing": false,
     "name": "#%%\n"
    }
   },
   "outputs": [],
   "source": [
    "class Preprocessor:\n",
    "\n",
    "    def run(self, _, imgs, params):\n",
    "        img_filenames = params[\"img_filenames\"]\n",
    "\n",
    "        for i, img_arr in enumerate(imgs):\n",
    "            img = Image.fromarray(img_arr)\n",
    "            path_to_img = f\"{get_project_root()}/tmp/val2017/\" + img_filenames[i]\n",
    "            img.save(path_to_img, \"jpeg\", quality=100)\n",
    "\n",
    "        return None, imgs, {}"
   ]
  },
  {
   "cell_type": "markdown",
   "metadata": {
    "collapsed": false
   },
   "source": [
    "Detectron's model zoo had pretrained weights for FasterRCNN, MaskRCNN and RetinaNet. YOLOv3's weights were trained by us, using the Kale cluster of University of Helsinki. The training took approximately five days when two NVIDIA Tesla V100 GPUs were used."
   ]
  },
  {
   "cell_type": "code",
   "execution_count": 6,
   "metadata": {
    "collapsed": false,
    "pycharm": {
     "is_executing": false,
     "name": "#%%\n"
    }
   },
   "outputs": [],
   "source": [
    "class YOLOv3Model:\n",
    "\n",
    "    def run(self, _, imgs, params):\n",
    "        path_to_yolov3_weights, path_to_yolov3_cfg = load_yolov3()\n",
    "\n",
    "        cline = f\"{get_project_root()}/libs/darknet/darknet detector map {get_project_root()}/data/coco.data \\\n",
    "            {path_to_yolov3_cfg} {path_to_yolov3_weights}\"\n",
    "        out = run_ml_module_using_cli(cline, show_stdout=False)\n",
    "\n",
    "        match = re.search(r\"\\(mAP@0.50\\) = (\\d+\\.\\d+)\", out)\n",
    "        return {\"mAP-50\": round(float(match.group(1)), 3)}\n",
    "\n",
    "\n",
    "class AbstractDetectronModel(ABC):\n",
    "\n",
    "    def run(self, _, imgs, params):\n",
    "        path_to_cfg = self.get_path_to_cfg()\n",
    "        url_to_weights = self.get_url_to_weights()\n",
    "\n",
    "        cline = f\"\"\"{get_project_root()}/libs/Detectron/tools/test_net.py \\\n",
    "            --cfg {path_to_cfg} \\\n",
    "            TEST.WEIGHTS {url_to_weights} \\\n",
    "            NUM_GPUS 1 \\\n",
    "            TEST.DATASETS '(\"coco_2017_val\",)' \\\n",
    "            MODEL.MASK_ON False \\\n",
    "            OUTPUT_DIR {get_project_root()}/tmp \\\n",
    "            DOWNLOAD_CACHE {get_project_root()}/tmp\"\"\"\n",
    "        out = run_ml_module_using_cli(cline, show_stdout=False)\n",
    "\n",
    "        match = re.search(r\"IoU=0.50      \\| area=   all \\| maxDets=100 ] = (\\d+\\.\\d+)\", out)\n",
    "        return {\"mAP-50\": round(float(match.group(1)), 3)}\n",
    "\n",
    "    @abstractmethod\n",
    "    def get_path_to_cfg(self):\n",
    "        pass\n",
    "\n",
    "    @abstractmethod\n",
    "    def get_url_to_weights(self):\n",
    "        pass\n",
    "\n",
    "\n",
    "class FasterRCNNModel(AbstractDetectronModel):\n",
    "\n",
    "    def get_path_to_cfg(self):\n",
    "        return f\"{get_project_root()}/libs/Detectron/configs/12_2017_baselines/e2e_faster_rcnn_X-101-64x4d-FPN_1x.yaml\"\n",
    "\n",
    "    def get_url_to_weights(self):\n",
    "        return (\n",
    "            \"https://dl.fbaipublicfiles.com/detectron/35858015/12_2017_baselines/\"\n",
    "            \"e2e_faster_rcnn_X-101-64x4d-FPN_1x.yaml.01_40_54.1xc565DE/output/train/\"\n",
    "            \"coco_2014_train%3Acoco_2014_valminusminival/generalized_rcnn/model_final.pkl\"\n",
    "        )\n",
    "\n",
    "\n",
    "class MaskRCNNModel(AbstractDetectronModel):\n",
    "\n",
    "    def get_path_to_cfg(self):\n",
    "        return f\"{get_project_root()}/libs/Detectron/configs/12_2017_baselines/e2e_mask_rcnn_X-101-64x4d-FPN_1x.yaml\"\n",
    "\n",
    "    def get_url_to_weights(self):\n",
    "        return (\n",
    "            \"https://dl.fbaipublicfiles.com/detectron/36494496/12_2017_baselines/\"\n",
    "            \"e2e_mask_rcnn_X-101-64x4d-FPN_1x.yaml.07_50_11.fkwVtEvg/output/train/\"\n",
    "            \"coco_2014_train%3Acoco_2014_valminusminival/generalized_rcnn/model_final.pkl\"\n",
    "        )\n",
    "\n",
    "\n",
    "class RetinaNetModel(AbstractDetectronModel):\n",
    "\n",
    "    def get_path_to_cfg(self):\n",
    "        return f\"{get_project_root()}/libs/Detectron/configs/12_2017_baselines/retinanet_X-101-64x4d-FPN_1x.yaml\"\n",
    "\n",
    "    def get_url_to_weights(self):\n",
    "        return (\n",
    "            \"https://dl.fbaipublicfiles.com/detectron/36768875/12_2017_baselines/\"\n",
    "            \"retinanet_X-101-64x4d-FPN_1x.yaml.08_34_37.FSXgMpzP/output/train/\"\n",
    "            \"coco_2014_train%3Acoco_2014_valminusminival/retinanet/model_final.pkl\"\n",
    "        )"
   ]
  },
  {
   "cell_type": "markdown",
   "metadata": {
    "collapsed": false
   },
   "source": []
  },
  {
   "cell_type": "code",
   "execution_count": 7,
   "metadata": {
    "collapsed": false,
    "pycharm": {
     "is_executing": false,
     "name": "#%%\n"
    }
   },
   "outputs": [],
   "source": [
    "def get_model_params_dict_list():\n",
    "    return [\n",
    "        {\"model\": FasterRCNNModel, \"params_list\": [{}]},\n",
    "        {\"model\": MaskRCNNModel, \"params_list\": [{}]},\n",
    "        {\"model\": RetinaNetModel, \"params_list\": [{}]},\n",
    "        {\"model\": YOLOv3Model, \"params_list\": [{}]},\n",
    "    ]"
   ]
  },
  {
   "cell_type": "markdown",
   "metadata": {
    "collapsed": false
   },
   "source": []
  },
  {
   "cell_type": "code",
   "execution_count": 8,
   "metadata": {
    "collapsed": false,
    "pycharm": {
     "is_executing": false,
     "name": "#%%\n"
    }
   },
   "outputs": [],
   "source": [
    "def visualize(df):\n",
    "    visualize_scores(\n",
    "        df, \n",
    "        score_names=[\"mAP-50\"], \n",
    "        is_higher_score_better=[True], \n",
    "        err_param_name=\"k\", \n",
    "        title=\"Object detection with reduced resolution\"\n",
    "    )\n",
    "    plt.show()"
   ]
  },
  {
   "cell_type": "markdown",
   "metadata": {
    "collapsed": false
   },
   "source": []
  },
  {
   "cell_type": "code",
   "execution_count": 9,
   "metadata": {
    "collapsed": false,
    "pycharm": {
     "is_executing": false,
     "name": "#%%\n"
    }
   },
   "outputs": [],
   "source": [
    "def main():\n",
    "    imgs, img_filenames = get_data()\n",
    "\n",
    "    df = runner.run(\n",
    "        train_data=None,\n",
    "        test_data=imgs,\n",
    "        preproc=Preprocessor,\n",
    "        preproc_params={\"img_filenames\": img_filenames},\n",
    "        err_root_node=get_err_root_node(),\n",
    "        err_params_list=get_err_params_list(),\n",
    "        model_params_dict_list=get_model_params_dict_list(),\n",
    "        n_processes=1\n",
    "    )\n",
    "\n",
    "    print_results_by_model(df)\n",
    "    visualize(df)"
   ]
  },
  {
   "cell_type": "markdown",
   "metadata": {
    "collapsed": false
   },
   "source": []
  },
  {
   "cell_type": "code",
   "execution_count": 10,
   "metadata": {
    "collapsed": false,
    "pycharm": {
     "is_executing": true,
     "name": "#%%\n"
    }
   },
   "outputs": [
    {
     "name": "stdout",
     "output_type": "stream",
     "text": [
      "loading annotations into memory...\n",
      "Done (t=0.52s)\n",
      "creating index...\n",
      "index created!\n"
     ]
    },
    {
     "name": "stderr",
     "output_type": "stream",
     "text": [
      "  0%|          | 0/4 [00:00<?, ?it/s]"
     ]
    },
    {
     "name": "stdout",
     "output_type": "stream",
     "text": [
      "\n",
      "\n",
      "\n",
      "\n"
     ]
    },
    {
     "name": "stderr",
     "output_type": "stream",
     "text": [
      " 25%|██▌       | 1/4 [48:04<2:24:14, 2884.76s/it]"
     ]
    },
    {
     "name": "stdout",
     "output_type": "stream",
     "text": [
      "\n",
      "\n",
      "\n",
      "\n"
     ]
    },
    {
     "name": "stderr",
     "output_type": "stream",
     "text": [
      " 50%|█████     | 2/4 [1:35:50<1:35:58, 2879.18s/it]"
     ]
    },
    {
     "name": "stdout",
     "output_type": "stream",
     "text": [
      "\n",
      "\n",
      "\n",
      "\n"
     ]
    },
    {
     "name": "stderr",
     "output_type": "stream",
     "text": [
      " 75%|███████▌  | 3/4 [2:23:16<47:48, 2868.95s/it]  "
     ]
    },
    {
     "name": "stdout",
     "output_type": "stream",
     "text": [
      "\n",
      "\n",
      "\n",
      "\n"
     ]
    },
    {
     "name": "stderr",
     "output_type": "stream",
     "text": [
      "100%|██████████| 4/4 [3:09:35<00:00, 2842.14s/it]\n"
     ]
    },
    {
     "name": "stdout",
     "output_type": "stream",
     "text": [
      "FasterRCNN #1\n"
     ]
    },
    {
     "data": {
      "text/html": [
       "<div>\n",
       "<style scoped>\n",
       "    .dataframe tbody tr th:only-of-type {\n",
       "        vertical-align: middle;\n",
       "    }\n",
       "\n",
       "    .dataframe tbody tr th {\n",
       "        vertical-align: top;\n",
       "    }\n",
       "\n",
       "    .dataframe thead th {\n",
       "        text-align: right;\n",
       "    }\n",
       "</style>\n",
       "<table border=\"1\" class=\"dataframe\">\n",
       "  <thead>\n",
       "    <tr style=\"text-align: right;\">\n",
       "      <th></th>\n",
       "      <th>mAP-50</th>\n",
       "      <th>k</th>\n",
       "      <th>time_err</th>\n",
       "      <th>time_pre</th>\n",
       "      <th>time_mod</th>\n",
       "    </tr>\n",
       "  </thead>\n",
       "  <tbody>\n",
       "    <tr>\n",
       "      <th>0</th>\n",
       "      <td>0.636</td>\n",
       "      <td>1</td>\n",
       "      <td>43.079</td>\n",
       "      <td>188.690</td>\n",
       "      <td>778.357</td>\n",
       "    </tr>\n",
       "    <tr>\n",
       "      <th>1</th>\n",
       "      <td>0.448</td>\n",
       "      <td>2</td>\n",
       "      <td>43.463</td>\n",
       "      <td>189.020</td>\n",
       "      <td>773.277</td>\n",
       "    </tr>\n",
       "    <tr>\n",
       "      <th>2</th>\n",
       "      <td>0.192</td>\n",
       "      <td>3</td>\n",
       "      <td>43.073</td>\n",
       "      <td>197.176</td>\n",
       "      <td>763.480</td>\n",
       "    </tr>\n",
       "    <tr>\n",
       "      <th>3</th>\n",
       "      <td>0.070</td>\n",
       "      <td>4</td>\n",
       "      <td>43.302</td>\n",
       "      <td>151.681</td>\n",
       "      <td>758.630</td>\n",
       "    </tr>\n",
       "  </tbody>\n",
       "</table>\n",
       "</div>"
      ],
      "text/plain": [
       "   mAP-50  k  time_err  time_pre  time_mod\n",
       "0   0.636  1    43.079   188.690   778.357\n",
       "1   0.448  2    43.463   189.020   773.277\n",
       "2   0.192  3    43.073   197.176   763.480\n",
       "3   0.070  4    43.302   151.681   758.630"
      ]
     },
     "metadata": {},
     "output_type": "display_data"
    },
    {
     "name": "stdout",
     "output_type": "stream",
     "text": [
      "MaskRCNN #1\n"
     ]
    },
    {
     "data": {
      "text/html": [
       "<div>\n",
       "<style scoped>\n",
       "    .dataframe tbody tr th:only-of-type {\n",
       "        vertical-align: middle;\n",
       "    }\n",
       "\n",
       "    .dataframe tbody tr th {\n",
       "        vertical-align: top;\n",
       "    }\n",
       "\n",
       "    .dataframe thead th {\n",
       "        text-align: right;\n",
       "    }\n",
       "</style>\n",
       "<table border=\"1\" class=\"dataframe\">\n",
       "  <thead>\n",
       "    <tr style=\"text-align: right;\">\n",
       "      <th></th>\n",
       "      <th>mAP-50</th>\n",
       "      <th>k</th>\n",
       "      <th>time_err</th>\n",
       "      <th>time_pre</th>\n",
       "      <th>time_mod</th>\n",
       "    </tr>\n",
       "  </thead>\n",
       "  <tbody>\n",
       "    <tr>\n",
       "      <th>0</th>\n",
       "      <td>0.643</td>\n",
       "      <td>1</td>\n",
       "      <td>43.079</td>\n",
       "      <td>188.690</td>\n",
       "      <td>773.331</td>\n",
       "    </tr>\n",
       "    <tr>\n",
       "      <th>1</th>\n",
       "      <td>0.448</td>\n",
       "      <td>2</td>\n",
       "      <td>43.463</td>\n",
       "      <td>189.020</td>\n",
       "      <td>771.375</td>\n",
       "    </tr>\n",
       "    <tr>\n",
       "      <th>2</th>\n",
       "      <td>0.188</td>\n",
       "      <td>3</td>\n",
       "      <td>43.073</td>\n",
       "      <td>197.176</td>\n",
       "      <td>759.624</td>\n",
       "    </tr>\n",
       "    <tr>\n",
       "      <th>3</th>\n",
       "      <td>0.084</td>\n",
       "      <td>4</td>\n",
       "      <td>43.302</td>\n",
       "      <td>151.681</td>\n",
       "      <td>758.115</td>\n",
       "    </tr>\n",
       "  </tbody>\n",
       "</table>\n",
       "</div>"
      ],
      "text/plain": [
       "   mAP-50  k  time_err  time_pre  time_mod\n",
       "0   0.643  1    43.079   188.690   773.331\n",
       "1   0.448  2    43.463   189.020   771.375\n",
       "2   0.188  3    43.073   197.176   759.624\n",
       "3   0.084  4    43.302   151.681   758.115"
      ]
     },
     "metadata": {},
     "output_type": "display_data"
    },
    {
     "name": "stdout",
     "output_type": "stream",
     "text": [
      "RetinaNet #1\n"
     ]
    },
    {
     "data": {
      "text/html": [
       "<div>\n",
       "<style scoped>\n",
       "    .dataframe tbody tr th:only-of-type {\n",
       "        vertical-align: middle;\n",
       "    }\n",
       "\n",
       "    .dataframe tbody tr th {\n",
       "        vertical-align: top;\n",
       "    }\n",
       "\n",
       "    .dataframe thead th {\n",
       "        text-align: right;\n",
       "    }\n",
       "</style>\n",
       "<table border=\"1\" class=\"dataframe\">\n",
       "  <thead>\n",
       "    <tr style=\"text-align: right;\">\n",
       "      <th></th>\n",
       "      <th>mAP-50</th>\n",
       "      <th>k</th>\n",
       "      <th>time_err</th>\n",
       "      <th>time_pre</th>\n",
       "      <th>time_mod</th>\n",
       "    </tr>\n",
       "  </thead>\n",
       "  <tbody>\n",
       "    <tr>\n",
       "      <th>0</th>\n",
       "      <td>0.594</td>\n",
       "      <td>1</td>\n",
       "      <td>43.079</td>\n",
       "      <td>188.690</td>\n",
       "      <td>1007.471</td>\n",
       "    </tr>\n",
       "    <tr>\n",
       "      <th>1</th>\n",
       "      <td>0.450</td>\n",
       "      <td>2</td>\n",
       "      <td>43.463</td>\n",
       "      <td>189.020</td>\n",
       "      <td>1003.882</td>\n",
       "    </tr>\n",
       "    <tr>\n",
       "      <th>2</th>\n",
       "      <td>0.231</td>\n",
       "      <td>3</td>\n",
       "      <td>43.073</td>\n",
       "      <td>197.176</td>\n",
       "      <td>996.645</td>\n",
       "    </tr>\n",
       "    <tr>\n",
       "      <th>3</th>\n",
       "      <td>0.112</td>\n",
       "      <td>4</td>\n",
       "      <td>43.302</td>\n",
       "      <td>151.681</td>\n",
       "      <td>982.990</td>\n",
       "    </tr>\n",
       "  </tbody>\n",
       "</table>\n",
       "</div>"
      ],
      "text/plain": [
       "   mAP-50  k  time_err  time_pre  time_mod\n",
       "0   0.594  1    43.079   188.690  1007.471\n",
       "1   0.450  2    43.463   189.020  1003.882\n",
       "2   0.231  3    43.073   197.176   996.645\n",
       "3   0.112  4    43.302   151.681   982.990"
      ]
     },
     "metadata": {},
     "output_type": "display_data"
    },
    {
     "name": "stdout",
     "output_type": "stream",
     "text": [
      "YOLOv3 #1\n"
     ]
    },
    {
     "data": {
      "text/html": [
       "<div>\n",
       "<style scoped>\n",
       "    .dataframe tbody tr th:only-of-type {\n",
       "        vertical-align: middle;\n",
       "    }\n",
       "\n",
       "    .dataframe tbody tr th {\n",
       "        vertical-align: top;\n",
       "    }\n",
       "\n",
       "    .dataframe thead th {\n",
       "        text-align: right;\n",
       "    }\n",
       "</style>\n",
       "<table border=\"1\" class=\"dataframe\">\n",
       "  <thead>\n",
       "    <tr style=\"text-align: right;\">\n",
       "      <th></th>\n",
       "      <th>mAP-50</th>\n",
       "      <th>k</th>\n",
       "      <th>time_err</th>\n",
       "      <th>time_pre</th>\n",
       "      <th>time_mod</th>\n",
       "    </tr>\n",
       "  </thead>\n",
       "  <tbody>\n",
       "    <tr>\n",
       "      <th>0</th>\n",
       "      <td>0.556</td>\n",
       "      <td>1</td>\n",
       "      <td>43.079</td>\n",
       "      <td>188.690</td>\n",
       "      <td>89.957</td>\n",
       "    </tr>\n",
       "    <tr>\n",
       "      <th>1</th>\n",
       "      <td>0.422</td>\n",
       "      <td>2</td>\n",
       "      <td>43.463</td>\n",
       "      <td>189.020</td>\n",
       "      <td>81.409</td>\n",
       "    </tr>\n",
       "    <tr>\n",
       "      <th>2</th>\n",
       "      <td>0.109</td>\n",
       "      <td>3</td>\n",
       "      <td>43.073</td>\n",
       "      <td>197.176</td>\n",
       "      <td>79.648</td>\n",
       "    </tr>\n",
       "    <tr>\n",
       "      <th>3</th>\n",
       "      <td>0.023</td>\n",
       "      <td>4</td>\n",
       "      <td>43.302</td>\n",
       "      <td>151.681</td>\n",
       "      <td>79.119</td>\n",
       "    </tr>\n",
       "  </tbody>\n",
       "</table>\n",
       "</div>"
      ],
      "text/plain": [
       "   mAP-50  k  time_err  time_pre  time_mod\n",
       "0   0.556  1    43.079   188.690    89.957\n",
       "1   0.422  2    43.463   189.020    81.409\n",
       "2   0.109  3    43.073   197.176    79.648\n",
       "3   0.023  4    43.302   151.681    79.119"
      ]
     },
     "metadata": {},
     "output_type": "display_data"
    },
    {
     "data": {
      "image/png": "[encoded data removed]",
      "text/plain": [
       "<Figure size 360x288 with 1 Axes>"
      ]
     },
     "metadata": {
      "needs_background": "light"
     },
     "output_type": "display_data"
    }
   ],
   "source": [
    "main()"
   ]
  },
  {
   "cell_type": "markdown",
   "metadata": {
    "collapsed": false
   },
   "source": [
    "The notebook for this case study can be found [here](https://github.com/dpEmu/dpEmu/blob/master/docs/case_studies/Object_Detection_Reduced_Resolution.ipynb)."
   ]
  }
 ],
 "metadata": {
  "kernelspec": {
   "display_name": "Python 3",
   "language": "python",
   "name": "python3"
  },
  "language_info": {
   "codemirror_mode": {
    "name": "ipython",
    "version": 3
   },
   "file_extension": ".py",
   "mimetype": "text/x-python",
   "name": "python",
   "nbconvert_exporter": "python",
   "pygments_lexer": "ipython3",
   "version": "3.7.0"
  },
  "pycharm": {
   "stem_cell": {
    "cell_type": "raw",
    "source": [],
    "metadata": {
     "collapsed": false
    }
   }
  }
 },
 "nbformat": 4,
 "nbformat_minor": 0
}