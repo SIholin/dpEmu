{
 "cells": [
  {
   "cell_type": "markdown",
   "metadata": {
    "collapsed": false
   },
   "source": [
    "# Object detection: Reduced resolution"
   ]
  },
  {
   "cell_type": "markdown",
   "metadata": {
    "collapsed": false
   },
   "source": []
  },
  {
   "cell_type": "code",
   "execution_count": 1,
   "metadata": {
    "collapsed": true,
    "pycharm": {
     "is_executing": false
    }
   },
   "outputs": [],
   "source": [
    "import re\n",
    "from abc import ABC, abstractmethod\n",
    "\n",
    "import matplotlib.pyplot as plt\n",
    "from PIL import Image\n",
    "\n",
    "from dpemu import runner\n",
    "from dpemu.dataset_utils import load_coco_val_2017\n",
    "from dpemu.filters.image import Resolution\n",
    "from dpemu.ml_utils import run_ml_module_using_cli, load_yolov3\n",
    "from dpemu.nodes import Array, Series\n",
    "from dpemu.plotting_utils import print_results_by_model, visualize_scores\n",
    "from dpemu.utils import get_project_root"
   ]
  },
  {
   "cell_type": "markdown",
   "metadata": {
    "collapsed": false
   },
   "source": []
  },
  {
   "cell_type": "code",
   "execution_count": 2,
   "metadata": {
    "collapsed": false,
    "pycharm": {
     "is_executing": false,
     "name": "#%%\n"
    }
   },
   "outputs": [],
   "source": [
    "def get_err_root_node():\n",
    "    err_node = Array()\n",
    "    err_root_node = Series(err_node)\n",
    "    err_node.addfilter(Resolution(\"k\"))\n",
    "    return err_root_node"
   ]
  },
  {
   "cell_type": "markdown",
   "metadata": {
    "collapsed": false
   },
   "source": []
  },
  {
   "cell_type": "code",
   "execution_count": 3,
   "metadata": {
    "collapsed": false,
    "pycharm": {
     "is_executing": false,
     "name": "#%%\n"
    }
   },
   "outputs": [],
   "source": [
    "def get_err_params_list():\n",
    "    return [{\"k\": k} for k in range(1, 5)]"
   ]
  },
  {
   "cell_type": "markdown",
   "metadata": {
    "collapsed": false
   },
   "source": []
  },
  {
   "cell_type": "code",
   "execution_count": 4,
   "metadata": {
    "collapsed": false,
    "pycharm": {
     "is_executing": false,
     "name": "#%%\n"
    }
   },
   "outputs": [],
   "source": [
    "class Preprocessor:\n",
    "\n",
    "    def run(self, _, imgs, params):\n",
    "        img_filenames = params[\"img_filenames\"]\n",
    "\n",
    "        for i, img_arr in enumerate(imgs):\n",
    "            img = Image.fromarray(img_arr)\n",
    "            path_to_img = f\"{get_project_root()}/tmp/val2017/\" + img_filenames[i]\n",
    "            img.save(path_to_img, \"jpeg\", quality=100)\n",
    "\n",
    "        return None, imgs, {}"
   ]
  },
  {
   "cell_type": "markdown",
   "metadata": {
    "collapsed": false
   },
   "source": []
  },
  {
   "cell_type": "code",
   "execution_count": 5,
   "metadata": {
    "collapsed": false,
    "pycharm": {
     "is_executing": false,
     "name": "#%%\n"
    }
   },
   "outputs": [],
   "source": [
    "class YOLOv3Model:\n",
    "\n",
    "    def run(self, _, imgs, params):\n",
    "        path_to_yolov3_weights, path_to_yolov3_cfg = load_yolov3()\n",
    "\n",
    "        cline = f\"{get_project_root()}/libs/darknet/darknet detector map {get_project_root()}/data/coco.data \\\n",
    "            {path_to_yolov3_cfg} {path_to_yolov3_weights}\"\n",
    "        out = run_ml_module_using_cli(cline, show_stdout=False)\n",
    "\n",
    "        match = re.search(r\"\\(mAP@0.50\\) = (\\d+\\.\\d+)\", out)\n",
    "        return {\"mAP-50\": round(float(match.group(1)), 3)}\n",
    "\n",
    "\n",
    "class AbstractDetectronModel(ABC):\n",
    "\n",
    "    def run(self, _, imgs, params):\n",
    "        path_to_cfg = self.get_path_to_cfg()\n",
    "        url_to_weights = self.get_url_to_weights()\n",
    "\n",
    "        cline = f\"\"\"{get_project_root()}/libs/Detectron/tools/test_net.py \\\n",
    "            --cfg {path_to_cfg} \\\n",
    "            TEST.WEIGHTS {url_to_weights} \\\n",
    "            NUM_GPUS 1 \\\n",
    "            TEST.DATASETS '(\"coco_2017_val\",)' \\\n",
    "            MODEL.MASK_ON False \\\n",
    "            OUTPUT_DIR {get_project_root()}/tmp \\\n",
    "            DOWNLOAD_CACHE {get_project_root()}/tmp\"\"\"\n",
    "        out = run_ml_module_using_cli(cline, show_stdout=False)\n",
    "\n",
    "        match = re.search(r\"IoU=0.50      \\| area=   all \\| maxDets=100 ] = (\\d+\\.\\d+)\", out)\n",
    "        return {\"mAP-50\": round(float(match.group(1)), 3)}\n",
    "\n",
    "    @abstractmethod\n",
    "    def get_path_to_cfg(self):\n",
    "        pass\n",
    "\n",
    "    @abstractmethod\n",
    "    def get_url_to_weights(self):\n",
    "        pass\n",
    "\n",
    "\n",
    "class FasterRCNNModel(AbstractDetectronModel):\n",
    "\n",
    "    def get_path_to_cfg(self):\n",
    "        return f\"{get_project_root()}/libs/Detectron/configs/12_2017_baselines/e2e_faster_rcnn_X-101-64x4d-FPN_1x.yaml\"\n",
    "\n",
    "    def get_url_to_weights(self):\n",
    "        return (\n",
    "            \"https://dl.fbaipublicfiles.com/detectron/35858015/12_2017_baselines/\"\n",
    "            \"e2e_faster_rcnn_X-101-64x4d-FPN_1x.yaml.01_40_54.1xc565DE/output/train/\"\n",
    "            \"coco_2014_train%3Acoco_2014_valminusminival/generalized_rcnn/model_final.pkl\"\n",
    "        )\n",
    "\n",
    "\n",
    "class MaskRCNNModel(AbstractDetectronModel):\n",
    "\n",
    "    def get_path_to_cfg(self):\n",
    "        return f\"{get_project_root()}/libs/Detectron/configs/12_2017_baselines/e2e_mask_rcnn_X-101-64x4d-FPN_1x.yaml\"\n",
    "\n",
    "    def get_url_to_weights(self):\n",
    "        return (\n",
    "            \"https://dl.fbaipublicfiles.com/detectron/36494496/12_2017_baselines/\"\n",
    "            \"e2e_mask_rcnn_X-101-64x4d-FPN_1x.yaml.07_50_11.fkwVtEvg/output/train/\"\n",
    "            \"coco_2014_train%3Acoco_2014_valminusminival/generalized_rcnn/model_final.pkl\"\n",
    "        )\n",
    "\n",
    "\n",
    "class RetinaNetModel(AbstractDetectronModel):\n",
    "\n",
    "    def get_path_to_cfg(self):\n",
    "        return f\"{get_project_root()}/libs/Detectron/configs/12_2017_baselines/retinanet_X-101-64x4d-FPN_1x.yaml\"\n",
    "\n",
    "    def get_url_to_weights(self):\n",
    "        return (\n",
    "            \"https://dl.fbaipublicfiles.com/detectron/36768875/12_2017_baselines/\"\n",
    "            \"retinanet_X-101-64x4d-FPN_1x.yaml.08_34_37.FSXgMpzP/output/train/\"\n",
    "            \"coco_2014_train%3Acoco_2014_valminusminival/retinanet/model_final.pkl\"\n",
    "        )"
   ]
  },
  {
   "cell_type": "markdown",
   "metadata": {
    "collapsed": false
   },
   "source": []
  },
  {
   "cell_type": "code",
   "execution_count": 6,
   "metadata": {
    "collapsed": false,
    "pycharm": {
     "is_executing": false,
     "name": "#%%\n"
    }
   },
   "outputs": [],
   "source": [
    "def get_model_params_dict_list():\n",
    "    return [\n",
    "        {\"model\": FasterRCNNModel, \"params_list\": [{}]},\n",
    "        {\"model\": MaskRCNNModel, \"params_list\": [{}]},\n",
    "        {\"model\": RetinaNetModel, \"params_list\": [{}]},\n",
    "        {\"model\": YOLOv3Model, \"params_list\": [{}]},\n",
    "    ]"
   ]
  },
  {
   "cell_type": "markdown",
   "metadata": {
    "collapsed": false
   },
   "source": []
  },
  {
   "cell_type": "code",
   "execution_count": 7,
   "metadata": {
    "collapsed": false,
    "pycharm": {
     "is_executing": false,
     "name": "#%%\n"
    }
   },
   "outputs": [],
   "source": [
    "def visualize(df):\n",
    "    visualize_scores(\n",
    "        df, \n",
    "        score_names=[\"mAP-50\"], \n",
    "        is_higher_score_better=[True], \n",
    "        err_param_name=\"k\", \n",
    "        title=\"Object detection with reduced resolution\"\n",
    "    )\n",
    "    plt.show()"
   ]
  },
  {
   "cell_type": "markdown",
   "metadata": {
    "collapsed": false
   },
   "source": []
  },
  {
   "cell_type": "code",
   "execution_count": 8,
   "metadata": {
    "collapsed": false,
    "pycharm": {
     "is_executing": false,
     "name": "#%%\n"
    }
   },
   "outputs": [],
   "source": [
    "def main():\n",
    "    imgs, _, _, img_filenames = load_coco_val_2017()\n",
    "\n",
    "    df = runner.run(\n",
    "        train_data=None,\n",
    "        test_data=imgs,\n",
    "        preproc=Preprocessor,\n",
    "        preproc_params={\"img_filenames\": img_filenames},\n",
    "        err_root_node=get_err_root_node(),\n",
    "        err_params_list=get_err_params_list(),\n",
    "        model_params_dict_list=get_model_params_dict_list(),\n",
    "        n_processes=1\n",
    "    )\n",
    "\n",
    "    print_results_by_model(df)\n",
    "    visualize(df)"
   ]
  },
  {
   "cell_type": "markdown",
   "metadata": {
    "collapsed": false
   },
   "source": []
  },
  {
   "cell_type": "code",
   "execution_count": 9,
   "metadata": {
    "collapsed": false,
    "pycharm": {
     "is_executing": true,
     "name": "#%%\n"
    }
   },
   "outputs": [
    {
     "name": "stdout",
     "output_type": "stream",
     "text": [
      "loading annotations into memory...\n",
      "Done (t=0.54s)\n",
      "creating index...\n",
      "index created!\n"
     ]
    },
    {
     "name": "stderr",
     "output_type": "stream",
     "text": [
      "  0%|          | 0/4 [00:00<?, ?it/s]"
     ]
    },
    {
     "name": "stdout",
     "output_type": "stream",
     "text": [
      "\n",
      "\n",
      "\n",
      "\n"
     ]
    },
    {
     "name": "stderr",
     "output_type": "stream",
     "text": [
      " 25%|██▌       | 1/4 [1:16:22<3:49:07, 4582.56s/it]"
     ]
    },
    {
     "name": "stdout",
     "output_type": "stream",
     "text": [
      "\n",
      "\n",
      "\n",
      "\n"
     ]
    },
    {
     "name": "stderr",
     "output_type": "stream",
     "text": [
      " 50%|█████     | 2/4 [2:30:58<2:31:41, 4550.59s/it]"
     ]
    },
    {
     "name": "stdout",
     "output_type": "stream",
     "text": [
      "\n",
      "\n",
      "\n",
      "\n"
     ]
    },
    {
     "name": "stderr",
     "output_type": "stream",
     "text": [
      " 75%|███████▌  | 3/4 [3:45:02<1:15:18, 4518.49s/it]"
     ]
    },
    {
     "name": "stdout",
     "output_type": "stream",
     "text": [
      "\n",
      "\n",
      "\n",
      "\n"
     ]
    },
    {
     "name": "stderr",
     "output_type": "stream",
     "text": [
      "100%|██████████| 4/4 [4:57:31<00:00, 4467.63s/it]  \n"
     ]
    },
    {
     "name": "stdout",
     "output_type": "stream",
     "text": [
      "FasterRCNN #1\n",
      "   k  mAP-50   time_err     time_mod    time_pre\n",
      "0  1   0.636  55.912403  1275.737497  238.756690\n",
      "1  2   0.448  54.753759  1265.770647  223.368763\n",
      "2  3   0.192  54.776947  1254.644468  232.199183\n",
      "3  4   0.070  54.016166  1244.028219  171.851469\n",
      "MaskRCNN #1\n",
      "   k  mAP-50   time_err     time_mod    time_pre\n",
      "0  1   0.643  55.912403  1268.922837  238.756690\n",
      "1  2   0.448  54.753759  1267.125448  223.368763\n",
      "2  3   0.188  54.776947  1249.770184  232.199183\n",
      "3  4   0.084  54.016166  1244.648877  171.851469\n",
      "RetinaNet #1\n",
      "   k  mAP-50   time_err     time_mod    time_pre\n",
      "0  1   0.594  55.912403  1574.914006  238.756690\n",
      "1  2   0.450  54.753759  1499.004058  223.368763\n",
      "2  3   0.231  54.776947  1492.287986  232.199183\n",
      "3  4   0.112  54.016166  1474.717671  171.851469\n",
      "YOLOv3 #1\n",
      "   k  mAP-50   time_err    time_mod    time_pre\n",
      "0  1   0.556  55.912403  164.290454  238.756690\n",
      "1  2   0.422  54.753759  160.579863  223.368763\n",
      "2  3   0.109  54.776947  154.460889  232.199183\n",
      "3  4   0.023  54.016166  154.145464  171.851469\n"
     ]
    },
    {
     "data": {
      "image/png": "[encoded data removed]",
      "text/plain": [
       "<Figure size 360x288 with 1 Axes>"
      ]
     },
     "metadata": {
      "needs_background": "light"
     },
     "output_type": "display_data"
    }
   ],
   "source": [
    "main()"
   ]
  },
  {
   "cell_type": "markdown",
   "source": [
    "The notebook for this case study can be found [here](https://github.com/dpEmu/dpEmu/blob/master/docs/case_studies/Object_Detection_Reduced_Resolution.ipynb)."
   ],
   "metadata": {
    "collapsed": false
   }
  }
 ],
 "metadata": {
  "kernelspec": {
   "display_name": "Python 3",
   "language": "python",
   "name": "python3"
  },
  "language_info": {
   "codemirror_mode": {
    "name": "ipython",
    "version": 3
   },
   "file_extension": ".py",
   "mimetype": "text/x-python",
   "name": "python",
   "nbconvert_exporter": "python",
   "pygments_lexer": "ipython3",
   "version": "3.7.0"
  },
  "pycharm": {
   "stem_cell": {
    "cell_type": "raw",
    "source": [],
    "metadata": {
     "collapsed": false
    }
   }
  }
 },
 "nbformat": 4,
 "nbformat_minor": 0
}