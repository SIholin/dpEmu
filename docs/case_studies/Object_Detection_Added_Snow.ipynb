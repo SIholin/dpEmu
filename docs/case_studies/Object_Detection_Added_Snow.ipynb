{
 "cells": [
  {
   "cell_type": "markdown",
   "metadata": {
    "collapsed": true,
    "pycharm": {
     "name": "#%% md\n"
    }
   },
   "source": [
    "# Object detection: Added snow"
   ]
  },
  {
   "cell_type": "markdown",
   "metadata": {
    "collapsed": false
   },
   "source": []
  },
  {
   "cell_type": "code",
   "execution_count": 1,
   "metadata": {
    "collapsed": false,
    "pycharm": {
     "name": "#%%\n"
    }
   },
   "outputs": [],
   "source": [
    "import re\n",
    "from abc import ABC, abstractmethod\n",
    "\n",
    "import matplotlib.pyplot as plt\n",
    "from PIL import Image\n",
    "\n",
    "from dpemu import runner\n",
    "from dpemu.dataset_utils import load_coco_val_2017\n",
    "from dpemu.filters.image import Snow\n",
    "from dpemu.ml_utils import run_ml_module_using_cli, load_yolov3\n",
    "from dpemu.nodes import Array, Series\n",
    "from dpemu.plotting_utils import print_results_by_model, visualize_scores\n",
    "from dpemu.utils import get_project_root"
   ]
  },
  {
   "cell_type": "markdown",
   "source": [],
   "metadata": {
    "collapsed": false
   }
  },
  {
   "cell_type": "code",
   "execution_count": null,
   "outputs": [],
   "source": [
    "def get_data():\n",
    "    imgs, _, _, img_filenames = load_coco_val_2017()\n",
    "    return imgs, img_filenames"
   ],
   "metadata": {
    "collapsed": false,
    "pycharm": {
     "name": "#%%\n"
    }
   }
  },
  {
   "cell_type": "markdown",
   "metadata": {
    "collapsed": false
   },
   "source": []
  },
  {
   "cell_type": "code",
   "execution_count": 2,
   "metadata": {
    "collapsed": false,
    "pycharm": {
     "name": "#%%\n"
    }
   },
   "outputs": [],
   "source": [
    "def get_err_root_node():\n",
    "    err_node = Array()\n",
    "    err_root_node = Series(err_node)\n",
    "    err_node.addfilter(Snow(\"snowflake_probability\", \"snowflake_alpha\", \"snowstorm_alpha\"))\n",
    "    return err_root_node"
   ]
  },
  {
   "cell_type": "markdown",
   "metadata": {
    "collapsed": false
   },
   "source": []
  },
  {
   "cell_type": "code",
   "execution_count": 3,
   "metadata": {
    "collapsed": false,
    "pycharm": {
     "name": "#%%\n"
    }
   },
   "outputs": [],
   "source": [
    "def get_err_params_list():\n",
    "    return [{\"snowflake_probability\": p, \"snowflake_alpha\": .4, \"snowstorm_alpha\": 0}\n",
    "            for p in [10 ** i for i in range(-4, 0)]]"
   ]
  },
  {
   "cell_type": "markdown",
   "metadata": {
    "collapsed": false
   },
   "source": []
  },
  {
   "cell_type": "code",
   "execution_count": 4,
   "metadata": {
    "collapsed": false,
    "pycharm": {
     "name": "#%%\n"
    }
   },
   "outputs": [],
   "source": [
    "class Preprocessor:\n",
    "\n",
    "    def run(self, _, imgs, params):\n",
    "        img_filenames = params[\"img_filenames\"]\n",
    "\n",
    "        for i, img_arr in enumerate(imgs):\n",
    "            img = Image.fromarray(img_arr)\n",
    "            path_to_img = f\"{get_project_root()}/tmp/val2017/\" + img_filenames[i]\n",
    "            img.save(path_to_img, \"jpeg\", quality=100)\n",
    "\n",
    "        return None, imgs, {}"
   ]
  },
  {
   "cell_type": "markdown",
   "metadata": {
    "collapsed": false
   },
   "source": []
  },
  {
   "cell_type": "code",
   "execution_count": 5,
   "metadata": {
    "collapsed": false,
    "pycharm": {
     "name": "#%%\n"
    }
   },
   "outputs": [],
   "source": [
    "class YOLOv3Model:\n",
    "\n",
    "    def run(self, _, imgs, params):\n",
    "        path_to_yolov3_weights, path_to_yolov3_cfg = load_yolov3()\n",
    "\n",
    "        cline = f\"{get_project_root()}/libs/darknet/darknet detector map {get_project_root()}/data/coco.data \\\n",
    "            {path_to_yolov3_cfg} {path_to_yolov3_weights}\"\n",
    "        out = run_ml_module_using_cli(cline, show_stdout=False)\n",
    "\n",
    "        match = re.search(r\"\\(mAP@0.50\\) = (\\d+\\.\\d+)\", out)\n",
    "        return {\"mAP-50\": round(float(match.group(1)), 3)}\n",
    "\n",
    "\n",
    "class AbstractDetectronModel(ABC):\n",
    "\n",
    "    def run(self, _, imgs, params):\n",
    "        path_to_cfg = self.get_path_to_cfg()\n",
    "        url_to_weights = self.get_url_to_weights()\n",
    "\n",
    "        cline = f\"\"\"{get_project_root()}/libs/Detectron/tools/test_net.py \\\n",
    "            --cfg {path_to_cfg} \\\n",
    "            TEST.WEIGHTS {url_to_weights} \\\n",
    "            NUM_GPUS 1 \\\n",
    "            TEST.DATASETS '(\"coco_2017_val\",)' \\\n",
    "            MODEL.MASK_ON False \\\n",
    "            OUTPUT_DIR {get_project_root()}/tmp \\\n",
    "            DOWNLOAD_CACHE {get_project_root()}/tmp\"\"\"\n",
    "        out = run_ml_module_using_cli(cline, show_stdout=False)\n",
    "\n",
    "        match = re.search(r\"IoU=0.50      \\| area=   all \\| maxDets=100 ] = (\\d+\\.\\d+)\", out)\n",
    "        return {\"mAP-50\": round(float(match.group(1)), 3)}\n",
    "\n",
    "    @abstractmethod\n",
    "    def get_path_to_cfg(self):\n",
    "        pass\n",
    "\n",
    "    @abstractmethod\n",
    "    def get_url_to_weights(self):\n",
    "        pass\n",
    "\n",
    "\n",
    "class FasterRCNNModel(AbstractDetectronModel):\n",
    "\n",
    "    def get_path_to_cfg(self):\n",
    "        return f\"{get_project_root()}/libs/Detectron/configs/12_2017_baselines/e2e_faster_rcnn_X-101-64x4d-FPN_1x.yaml\"\n",
    "\n",
    "    def get_url_to_weights(self):\n",
    "        return (\n",
    "            \"https://dl.fbaipublicfiles.com/detectron/35858015/12_2017_baselines/\"\n",
    "            \"e2e_faster_rcnn_X-101-64x4d-FPN_1x.yaml.01_40_54.1xc565DE/output/train/\"\n",
    "            \"coco_2014_train%3Acoco_2014_valminusminival/generalized_rcnn/model_final.pkl\"\n",
    "        )\n",
    "\n",
    "\n",
    "class MaskRCNNModel(AbstractDetectronModel):\n",
    "\n",
    "    def get_path_to_cfg(self):\n",
    "        return f\"{get_project_root()}/libs/Detectron/configs/12_2017_baselines/e2e_mask_rcnn_X-101-64x4d-FPN_1x.yaml\"\n",
    "\n",
    "    def get_url_to_weights(self):\n",
    "        return (\n",
    "            \"https://dl.fbaipublicfiles.com/detectron/36494496/12_2017_baselines/\"\n",
    "            \"e2e_mask_rcnn_X-101-64x4d-FPN_1x.yaml.07_50_11.fkwVtEvg/output/train/\"\n",
    "            \"coco_2014_train%3Acoco_2014_valminusminival/generalized_rcnn/model_final.pkl\"\n",
    "        )\n",
    "\n",
    "\n",
    "class RetinaNetModel(AbstractDetectronModel):\n",
    "\n",
    "    def get_path_to_cfg(self):\n",
    "        return f\"{get_project_root()}/libs/Detectron/configs/12_2017_baselines/retinanet_X-101-64x4d-FPN_1x.yaml\"\n",
    "\n",
    "    def get_url_to_weights(self):\n",
    "        return (\n",
    "            \"https://dl.fbaipublicfiles.com/detectron/36768875/12_2017_baselines/\"\n",
    "            \"retinanet_X-101-64x4d-FPN_1x.yaml.08_34_37.FSXgMpzP/output/train/\"\n",
    "            \"coco_2014_train%3Acoco_2014_valminusminival/retinanet/model_final.pkl\"\n",
    "        )"
   ]
  },
  {
   "cell_type": "markdown",
   "metadata": {
    "collapsed": false
   },
   "source": []
  },
  {
   "cell_type": "code",
   "execution_count": 6,
   "metadata": {
    "collapsed": false,
    "pycharm": {
     "name": "#%%\n"
    }
   },
   "outputs": [],
   "source": [
    "def get_model_params_dict_list():\n",
    "    return [\n",
    "        {\"model\": FasterRCNNModel, \"params_list\": [{}]},\n",
    "        {\"model\": MaskRCNNModel, \"params_list\": [{}]},\n",
    "        {\"model\": RetinaNetModel, \"params_list\": [{}]},\n",
    "        {\"model\": YOLOv3Model, \"params_list\": [{}]},\n",
    "    ]"
   ]
  },
  {
   "cell_type": "markdown",
   "metadata": {
    "collapsed": false
   },
   "source": []
  },
  {
   "cell_type": "code",
   "execution_count": 7,
   "metadata": {
    "collapsed": false,
    "pycharm": {
     "name": "#%%\n"
    }
   },
   "outputs": [],
   "source": [
    "def visualize(df):\n",
    "    visualize_scores(\n",
    "        df, \n",
    "        score_names=[\"mAP-50\"], \n",
    "        is_higher_score_better=[True], \n",
    "        err_param_name=\"snowflake_probability\", \n",
    "        title=\"Object detection with added snow\",\n",
    "        x_log=True\n",
    "    )\n",
    "    plt.show()"
   ]
  },
  {
   "cell_type": "markdown",
   "metadata": {
    "collapsed": false
   },
   "source": []
  },
  {
   "cell_type": "code",
   "execution_count": 8,
   "metadata": {
    "collapsed": false,
    "pycharm": {
     "name": "#%%\n"
    }
   },
   "outputs": [],
   "source": [
    "def main():\n",
    "    imgs, img_filenames = get_data()\n",
    "\n",
    "    df = runner.run(\n",
    "        train_data=None,\n",
    "        test_data=imgs,\n",
    "        preproc=Preprocessor,\n",
    "        preproc_params={\"img_filenames\": img_filenames},\n",
    "        err_root_node=get_err_root_node(),\n",
    "        err_params_list=get_err_params_list(),\n",
    "        model_params_dict_list=get_model_params_dict_list(),\n",
    "        n_processes=1\n",
    "    )\n",
    "\n",
    "    print_results_by_model(df, dropped_columns=[\"snowflake_alpha\", \"snowstorm_alpha\"])\n",
    "    visualize(df)"
   ]
  },
  {
   "cell_type": "markdown",
   "metadata": {
    "collapsed": false
   },
   "source": []
  },
  {
   "cell_type": "code",
   "execution_count": 9,
   "metadata": {
    "collapsed": false,
    "pycharm": {
     "name": "#%%\n"
    }
   },
   "outputs": [
    {
     "name": "stdout",
     "output_type": "stream",
     "text": [
      "loading annotations into memory...\n",
      "Done (t=0.45s)\n",
      "creating index...\n",
      "index created!\n"
     ]
    },
    {
     "name": "stderr",
     "output_type": "stream",
     "text": [
      "  0%|          | 0/4 [00:00<?, ?it/s]"
     ]
    },
    {
     "name": "stdout",
     "output_type": "stream",
     "text": [
      "\n",
      "\n",
      "\n",
      "\n"
     ]
    },
    {
     "name": "stderr",
     "output_type": "stream",
     "text": [
      " 25%|██▌       | 1/4 [52:45<2:38:17, 3165.81s/it]"
     ]
    },
    {
     "name": "stdout",
     "output_type": "stream",
     "text": [
      "\n",
      "\n",
      "\n",
      "\n"
     ]
    },
    {
     "name": "stderr",
     "output_type": "stream",
     "text": [
      " 50%|█████     | 2/4 [1:46:02<1:45:49, 3174.95s/it]"
     ]
    },
    {
     "name": "stdout",
     "output_type": "stream",
     "text": [
      "\n",
      "\n",
      "\n",
      "\n"
     ]
    },
    {
     "name": "stderr",
     "output_type": "stream",
     "text": [
      " 75%|███████▌  | 3/4 [2:44:35<54:36, 3276.48s/it]  "
     ]
    },
    {
     "name": "stdout",
     "output_type": "stream",
     "text": [
      "\n",
      "\n",
      "\n",
      "\n"
     ]
    },
    {
     "name": "stderr",
     "output_type": "stream",
     "text": [
      "100%|██████████| 4/4 [4:32:27<00:00, 4235.02s/it]\n"
     ]
    },
    {
     "name": "stdout",
     "output_type": "stream",
     "text": [
      "FasterRCNN #1\n",
      "   mAP-50  snowflake_probability     time_err    time_mod    time_pre\n",
      "0   0.633                 0.0001   325.687212  776.248342  187.525523\n",
      "1   0.607                 0.0010   358.006337  777.066054  190.404014\n",
      "2   0.472                 0.0100   663.940297  776.474450  200.310035\n",
      "3   0.134                 0.1000  3672.311759  766.583386  196.833806\n",
      "MaskRCNN #1\n",
      "   mAP-50  snowflake_probability     time_err    time_mod    time_pre\n",
      "0   0.638                 0.0001   325.687212  774.348130  187.525523\n",
      "1   0.615                 0.0010   358.006337  774.845580  190.404014\n",
      "2   0.481                 0.0100   663.940297  774.726470  200.310035\n",
      "3   0.139                 0.1000  3672.311759  760.135638  196.833806\n",
      "RetinaNet #1\n",
      "   mAP-50  snowflake_probability     time_err     time_mod    time_pre\n",
      "0   0.591                 0.0001   325.687212  1008.703728  187.525523\n",
      "1   0.565                 0.0010   358.006337  1008.027457  190.404014\n",
      "2   0.434                 0.0100   663.940297  1009.303572  200.310035\n",
      "3   0.138                 0.1000  3672.311759   987.437995  196.833806\n",
      "YOLOv3 #1\n",
      "   mAP-50  snowflake_probability     time_err   time_mod    time_pre\n",
      "0   0.552                 0.0001   325.687212  89.350543  187.525523\n",
      "1   0.519                 0.0010   358.006337  83.370886  190.404014\n",
      "2   0.385                 0.0100   663.940297  82.536584  200.310035\n",
      "3   0.088                 0.1000  3672.311759  84.191236  196.833806\n"
     ]
    },
    {
     "data": {
      "image/png": "[encoded data removed]",
      "text/plain": [
       "<Figure size 360x288 with 1 Axes>"
      ]
     },
     "metadata": {
      "needs_background": "light"
     },
     "output_type": "display_data"
    }
   ],
   "source": [
    "main()"
   ]
  },
  {
   "cell_type": "markdown",
   "metadata": {
    "collapsed": false
   },
   "source": [
    "The notebook for this case study can be found [here](https://github.com/dpEmu/dpEmu/blob/master/docs/case_studies/Object_Detection_Added_Snow.ipynb)."
   ]
  }
 ],
 "metadata": {
  "kernelspec": {
   "display_name": "Python 3",
   "language": "python",
   "name": "python3"
  },
  "language_info": {
   "codemirror_mode": {
    "name": "ipython",
    "version": 3
   },
   "file_extension": ".py",
   "mimetype": "text/x-python",
   "name": "python",
   "nbconvert_exporter": "python",
   "pygments_lexer": "ipython3",
   "version": "3.7.0"
  },
  "pycharm": {
   "stem_cell": {
    "cell_type": "raw",
    "source": [],
    "metadata": {
     "collapsed": false
    }
   }
  }
 },
 "nbformat": 4,
 "nbformat_minor": 0
}