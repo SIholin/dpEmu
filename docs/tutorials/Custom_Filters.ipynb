{
 "cells": [
  {
   "cell_type": "markdown",
   "metadata": {},
   "source": [
    "# Tutorial II: Custom Filters"
   ]
  },
  {
   "cell_type": "markdown",
   "metadata": {},
   "source": [
    "The dpEmu package provides many filters for common use cases, but it might occur that no built-in filter exists for what you want. To solve this problem, you can create your own filters by inheriting the filter template. In this tutorial, we will create a custom filter for converting input images from RGB to grayscale."
   ]
  },
  {
   "cell_type": "markdown",
   "metadata": {},
   "source": [
    "First, let's generate some input data. We'll use numpy's randomstate with a set seed to ensure repeatability. The randomstate object simply replaces the np.random-part of any function call you want to make to numpy's random module."
   ]
  },
  {
   "cell_type": "code",
   "execution_count": 18,
   "metadata": {
    "pycharm": {
     "is_executing": false
    }
   },
   "outputs": [],
   "source": [
    "import matplotlib.pyplot as plt\n",
    "import numpy as np\n",
    "\n",
    "rand = np.random.RandomState(seed=0)\n",
    "data = rand.randint(low=0, high=255, size=(10, 20, 20, 3))"
   ]
  },
  {
   "cell_type": "markdown",
   "metadata": {},
   "source": [
    "Let's see what these random images look like:"
   ]
  },
  {
   "cell_type": "code",
   "execution_count": 17,
   "metadata": {
    "pycharm": {
     "is_executing": false
    }
   },
   "outputs": [
    {
     "data": {
      "text/plain": [
       "<matplotlib.image.AxesImage at 0x7f984f837d10>"
      ]
     },
     "execution_count": 17,
     "metadata": {},
     "output_type": "execute_result"
    },
    {
     "data": {
      "image/png": "[encoded data removed]",
      "text/plain": [
       "<Figure size 288x288 with 1 Axes>"
      ]
     },
     "metadata": {
      "needs_background": "light"
     },
     "output_type": "display_data"
    }
   ],
   "source": [
    "plt.matshow(data[0])"
   ]
  },
  {
   "cell_type": "markdown",
   "metadata": {},
   "source": [
    "Before we write our own filter, let's rehearse what we learned in the previous tutorial and try modifying the image with an existing filter. We'll use the Resolution filter here."
   ]
  },
  {
   "cell_type": "code",
   "execution_count": 24,
   "metadata": {
    "pycharm": {
     "is_executing": false
    }
   },
   "outputs": [],
   "source": [
    "from dpemu.nodes import Array, Series\n",
    "from dpemu.filters.image import Resolution\n",
    "\n",
    "image_node = Array()\n",
    "series_node = Series(image_node)\n",
    "resolution_filter = Resolution(\"scale\")\n",
    "image_node.addfilter(resolution_filter)\n",
    "\n",
    "params = {\"scale\" : 2}\n",
    "errorified = series_node.generate_error(data, params)"
   ]
  },
  {
   "cell_type": "markdown",
   "metadata": {},
   "source": [
    "Let's quickly check that the output is what we'd expect:"
   ]
  },
  {
   "cell_type": "code",
   "execution_count": 25,
   "metadata": {
    "pycharm": {
     "is_executing": false
    }
   },
   "outputs": [
    {
     "data": {
      "text/plain": [
       "<matplotlib.image.AxesImage at 0x7f984f0d5c50>"
      ]
     },
     "execution_count": 25,
     "metadata": {},
     "output_type": "execute_result"
    },
    {
     "data": {
      "image/png": "[encoded data removed]",
      "text/plain": [
       "<Figure size 288x288 with 1 Axes>"
      ]
     },
     "metadata": {
      "needs_background": "light"
     },
     "output_type": "display_data"
    }
   ],
   "source": [
    "plt.matshow(errorified[0])"
   ]
  },
  {
   "cell_type": "markdown",
   "metadata": {},
   "source": [
    "Now we're ready to write our own filter to replace the built-in resolution filter. To do this, we want to inherit the Filter-class in dpemu.filters.filter. The class has the functions \"set_params\" and \"apply\" that we have to override. In this case however, we do not need to do anything in \"set_params\", since our grayscale filter doesn't take parameters. Additionally, we do not need any of the parameters passed to \"apply\", which applies our filter to the data, other than the data itself. Later on in this tutorial you'll see examples of how these parameters can be used."
   ]
  },
  {
   "cell_type": "code",
   "execution_count": 31,
   "metadata": {
    "pycharm": {
     "is_executing": false
    }
   },
   "outputs": [],
   "source": [
    "from dpemu.filters.filter import Filter\n",
    "\n",
    "class Grayscale(Filter):\n",
    "    def __init__(self):\n",
    "        super().__init__()\n",
    "    def set_params(self, params_dict):\n",
    "        pass\n",
    "    def apply(self, node_data, random_state, named_dims):\n",
    "        avg = np.sum(node_data, axis=-1) // 3 # Take average of the colors\n",
    "        for ci in range(3):\n",
    "            node_data[:, :, ci] = avg"
   ]
  },
  {
   "cell_type": "markdown",
   "metadata": {},
   "source": [
    "Let's try it, overwriting the old variables:"
   ]
  },
  {
   "cell_type": "code",
   "execution_count": 32,
   "metadata": {
    "pycharm": {
     "is_executing": false
    }
   },
   "outputs": [
    {
     "data": {
      "text/plain": [
       "<matplotlib.image.AxesImage at 0x7f984f055410>"
      ]
     },
     "execution_count": 32,
     "metadata": {},
     "output_type": "execute_result"
    },
    {
     "data": {
      "image/png": "[encoded data removed]",
      "text/plain": [
       "<Figure size 288x288 with 1 Axes>"
      ]
     },
     "metadata": {
      "needs_background": "light"
     },
     "output_type": "display_data"
    }
   ],
   "source": [
    "image_node = Array()\n",
    "series_node = Series(image_node)\n",
    "grayscale_filter = Grayscale()\n",
    "image_node.addfilter(grayscale_filter)\n",
    "\n",
    "params = {}\n",
    "errorified = series_node.generate_error(data, params)\n",
    "\n",
    "plt.matshow(errorified[0])"
   ]
  },
  {
   "cell_type": "markdown",
   "metadata": {},
   "source": [
    "It works! The code here is very simple. In the apply-function, we just take the mean of the color channels, and then assign that to each of them. Since our filter doesn't take any parameters, we don't pass any when calling generate_error.\n",
    "\n",
    "Note that Filters must always maintain the dimensions of the input data. Thay is why the processed image will still contain 3 color channels, despite being in grayscale."
   ]
  },
  {
   "cell_type": "markdown",
   "metadata": {},
   "source": [
    "Now that we understand how a simple filter works, let's modify it to incorporate randomness and parameters. We'll change it so that every pixel gets replaced with its grayscale equivalent with some probability given as a parameter:"
   ]
  },
  {
   "cell_type": "code",
   "execution_count": 39,
   "metadata": {
    "pycharm": {
     "is_executing": false
    }
   },
   "outputs": [],
   "source": [
    "class RandomGrayscale(Filter):\n",
    "    def __init__(self, probability_id):\n",
    "        super().__init__()\n",
    "        self.probability_id = probability_id\n",
    "    def set_params(self, params_dict):\n",
    "        self.probability = params_dict[self.probability_id]\n",
    "    def apply(self, node_data, random_state, named_dims):\n",
    "        inds = random_state.rand(node_data.shape[0], node_data.shape[1]) < self.probability\n",
    "        avg = np.sum(node_data[inds], axis=-1) // 3 # Take average of the colors\n",
    "        for ci in range(3):\n",
    "            node_data[inds, ci] = avg"
   ]
  },
  {
   "cell_type": "markdown",
   "metadata": {},
   "source": [
    "In function \"__init__\", we take the identifier for our probability parameter. This identifier will give the key for the value of probability in the params-dictionary given to generate_error. In set_params, we set the parameter by taking its value from the dictionary.\n",
    "\n",
    "In apply, we randomize the positions where the pixel will be replaced by its grayscale equivalent, then replace them as we did previously. For repeatability, the function is passed a numpy RandomState, which can be used just like we did at the beginning of the tutorial.\n",
    "\n",
    "Let's inspect the results:"
   ]
  },
  {
   "cell_type": "code",
   "execution_count": 41,
   "metadata": {
    "pycharm": {
     "is_executing": false
    }
   },
   "outputs": [
    {
     "data": {
      "text/plain": [
       "<matplotlib.image.AxesImage at 0x7f984ef89bd0>"
      ]
     },
     "execution_count": 41,
     "metadata": {},
     "output_type": "execute_result"
    },
    {
     "data": {
      "image/png": "[encoded data removed]",
      "text/plain": [
       "<Figure size 288x288 with 1 Axes>"
      ]
     },
     "metadata": {
      "needs_background": "light"
     },
     "output_type": "display_data"
    }
   ],
   "source": [
    "image_node = Array()\n",
    "series_node = Series(image_node)\n",
    "grayscale_filter = RandomGrayscale(\"probability\")\n",
    "image_node.addfilter(grayscale_filter)\n",
    "\n",
    "params = {\"probability\" : 0.5}\n",
    "errorified = series_node.generate_error(data, params)\n",
    "\n",
    "plt.matshow(errorified[0])"
   ]
  },
  {
   "cell_type": "markdown",
   "metadata": {},
   "source": [
    "Just as we wanted it! Now, the only thing we are yet to understand is the \"named_dims\" parameter to \"apply\". (TODO explanation of it)"
   ]
  },
  {
   "cell_type": "markdown",
   "metadata": {},
   "source": [
    "This concludes the second tutorial. Hopefully you now understand how to use DPemu to generate errors, and how to create your own filters for the error generation tree."
   ]
  },
  {
   "cell_type": "markdown",
   "metadata": {},
   "source": [
    "The notebook for this tutorial can be found [here] (https://github.com/dpEmu/dpEmu/blob/master/docs/tutorials/Custom_Filters.ipynb)."
   ]
  }
 ],
 "metadata": {
  "kernelspec": {
   "display_name": "venv",
   "language": "python",
   "name": "venv"
  },
  "language_info": {
   "codemirror_mode": {
    "name": "ipython",
    "version": 3
   },
   "file_extension": ".py",
   "mimetype": "text/x-python",
   "name": "python",
   "nbconvert_exporter": "python",
   "pygments_lexer": "ipython3",
   "version": "3.7.4"
  },
  "pycharm": {
   "stem_cell": {
    "cell_type": "raw",
    "source": [],
    "metadata": {
     "collapsed": false
    }
   }
  }
 },
 "nbformat": 4,
 "nbformat_minor": 2
}
