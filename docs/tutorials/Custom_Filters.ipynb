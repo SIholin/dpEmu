{
 "cells": [
  {
   "cell_type": "markdown",
   "metadata": {},
   "source": [
    "# Tutorial II: Custom Filters"
   ]
  },
  {
   "cell_type": "markdown",
   "metadata": {},
   "source": [
    "The dpEmu package provides many filters for common use cases, but it might occur that no built-in filter exists for what you want. To solve this problem, you can create your own filters by inheriting the filter template. In this tutorial, we will create a custom filter for converting input images from RGB to grayscale."
   ]
  },
  {
   "cell_type": "markdown",
   "metadata": {},
   "source": [
    "First, let's generate some input data. We'll use numpy's randomstate with a set seed to ensure repeatability. The randomstate object simply replaces the np.random-part of any function call you want to make to numpy's random module."
   ]
  },
  {
   "cell_type": "code",
   "execution_count": 1,
   "metadata": {
    "pycharm": {
     "is_executing": false
    }
   },
   "outputs": [],
   "source": [
    "import matplotlib.pyplot as plt\n",
    "import numpy as np\n",
    "\n",
    "rand = np.random.RandomState(seed=0)\n",
    "img = rand.randint(low=0, high=255, size=(20, 20, 3))\n",
    "data = np.array([img for _ in range(9)])"
   ]
  },
  {
   "cell_type": "markdown",
   "metadata": {},
   "source": [
    "Let's see what these random images look like:"
   ]
  },
  {
   "cell_type": "code",
   "execution_count": 2,
   "metadata": {
    "pycharm": {
     "is_executing": false
    }
   },
   "outputs": [
    {
     "data": {
      "text/plain": [
       "<matplotlib.image.AxesImage at 0x7f9cab8eeda0>"
      ]
     },
     "execution_count": 2,
     "metadata": {},
     "output_type": "execute_result"
    },
    {
     "data": {
      "image/png": "[encoded data removed]",
      "text/plain": [
       "<Figure size 288x288 with 1 Axes>"
      ]
     },
     "metadata": {
      "needs_background": "light"
     },
     "output_type": "display_data"
    }
   ],
   "source": [
    "plt.matshow(data[0])"
   ]
  },
  {
   "cell_type": "markdown",
   "metadata": {},
   "source": [
    "Before we write our own filter, let's rehearse what we learned in the previous tutorial and try modifying the image with an existing filter. We'll use the Resolution filter here."
   ]
  },
  {
   "cell_type": "code",
   "execution_count": 3,
   "metadata": {
    "pycharm": {
     "is_executing": false
    }
   },
   "outputs": [],
   "source": [
    "from dpemu.nodes import Array, Series\n",
    "from dpemu.filters.image import Resolution\n",
    "\n",
    "image_node = Array()\n",
    "series_node = Series(image_node)\n",
    "resolution_filter = Resolution(\"scale\")\n",
    "image_node.addfilter(resolution_filter)\n",
    "\n",
    "params = {\"scale\" : 2}\n",
    "errorified = series_node.generate_error(data, params)"
   ]
  },
  {
   "cell_type": "markdown",
   "metadata": {},
   "source": [
    "Let's quickly check that the output is what we'd expect:"
   ]
  },
  {
   "cell_type": "code",
   "execution_count": 4,
   "metadata": {
    "pycharm": {
     "is_executing": false
    }
   },
   "outputs": [
    {
     "data": {
      "text/plain": [
       "<matplotlib.image.AxesImage at 0x7f9c69371c18>"
      ]
     },
     "execution_count": 4,
     "metadata": {},
     "output_type": "execute_result"
    },
    {
     "data": {
      "image/png": "[encoded data removed]",
      "text/plain": [
       "<Figure size 288x288 with 1 Axes>"
      ]
     },
     "metadata": {
      "needs_background": "light"
     },
     "output_type": "display_data"
    }
   ],
   "source": [
    "plt.matshow(errorified[0])"
   ]
  },
  {
   "cell_type": "markdown",
   "metadata": {},
   "source": [
    "Now we're ready to write our own filter to replace the built-in resolution filter. To do this, we want to inherit the Filter-class in dpemu.filters.filter. The class has the function \"apply\" that we have to override. In this case however, we do not need any of the parameters passed to \"apply\", which applies our filter to the data, other than the data itself. Later on in this tutorial you'll see examples of how these parameters can be used."
   ]
  },
  {
   "cell_type": "code",
   "execution_count": 5,
   "metadata": {
    "pycharm": {
     "is_executing": false
    }
   },
   "outputs": [],
   "source": [
    "from dpemu.filters.filter import Filter\n",
    "\n",
    "class Grayscale(Filter):\n",
    "    def __init__(self):\n",
    "        super().__init__()\n",
    "    def apply(self, node_data, random_state, named_dims):\n",
    "        avg = np.sum(node_data, axis=-1) // 3\n",
    "        for ci in range(3):\n",
    "            node_data[:, :, ci] = avg"
   ]
  },
  {
   "cell_type": "markdown",
   "metadata": {},
   "source": [
    "Let's try it, overwriting the old variables:"
   ]
  },
  {
   "cell_type": "code",
   "execution_count": 6,
   "metadata": {
    "pycharm": {
     "is_executing": false
    }
   },
   "outputs": [
    {
     "data": {
      "text/plain": [
       "<matplotlib.image.AxesImage at 0x7f9c692d2dd8>"
      ]
     },
     "execution_count": 6,
     "metadata": {},
     "output_type": "execute_result"
    },
    {
     "data": {
      "image/png": "[encoded data removed]",
      "text/plain": [
       "<Figure size 288x288 with 1 Axes>"
      ]
     },
     "metadata": {
      "needs_background": "light"
     },
     "output_type": "display_data"
    }
   ],
   "source": [
    "image_node = Array()\n",
    "series_node = Series(image_node)\n",
    "grayscale_filter = Grayscale()\n",
    "image_node.addfilter(grayscale_filter)\n",
    "\n",
    "params = {}\n",
    "errorified = series_node.generate_error(data, params)\n",
    "\n",
    "plt.matshow(errorified[0])"
   ]
  },
  {
   "cell_type": "markdown",
   "metadata": {},
   "source": [
    "It works! The code here is very simple. In the apply-function, we just take the mean of the color channels, and then assign that to each of them. Since our filter doesn't take any parameters, we don't pass any when calling generate_error.\n",
    "\n",
    "Note that Filters must always maintain the dimensions of the input data. That is why the processed image will still contain 3 color channels, despite being in grayscale."
   ]
  },
  {
   "cell_type": "markdown",
   "metadata": {},
   "source": [
    "Now that we understand how a simple filter works, let's modify it to incorporate randomness and parameters. We'll change it so that every pixel gets replaced with its grayscale equivalent with some probability given as a parameter:"
   ]
  },
  {
   "cell_type": "code",
   "execution_count": 7,
   "metadata": {
    "pycharm": {
     "is_executing": false
    }
   },
   "outputs": [],
   "source": [
    "class RandomGrayscale(Filter):\n",
    "    def __init__(self, probability_id):\n",
    "        super().__init__()\n",
    "        self.probability_id = probability_id\n",
    "    def apply(self, node_data, random_state, named_dims):\n",
    "        inds = random_state.rand(node_data.shape[0], node_data.shape[1]) < self.probability\n",
    "        avg = np.sum(node_data[inds], axis=-1) // 3\n",
    "        for ci in range(3):\n",
    "            node_data[inds, ci] = avg"
   ]
  },
  {
   "cell_type": "markdown",
   "metadata": {},
   "source": [
    "In function \"__init__\", we take the identifier for our probability parameter. This identifier will give the key for the value of probability in the params-dictionary given to generate_error. dpEmu will automatically set the parameter by taking its value from the dictionary.\n",
    "\n",
    "In apply, we randomize the positions where the pixel will be replaced by its grayscale equivalent, then replace them as we did previously. For repeatability, the function is passed a numpy RandomState, which can be used just like we did at the beginning of the tutorial.\n",
    "\n",
    "Let's inspect the results:"
   ]
  },
  {
   "cell_type": "code",
   "execution_count": 8,
   "metadata": {
    "pycharm": {
     "is_executing": false
    }
   },
   "outputs": [
    {
     "data": {
      "text/plain": [
       "<matplotlib.image.AxesImage at 0x7f9c692bb160>"
      ]
     },
     "execution_count": 8,
     "metadata": {},
     "output_type": "execute_result"
    },
    {
     "data": {
      "image/png": "[encoded data removed]",
      "text/plain": [
       "<Figure size 288x288 with 1 Axes>"
      ]
     },
     "metadata": {
      "needs_background": "light"
     },
     "output_type": "display_data"
    }
   ],
   "source": [
    "image_node = Array()\n",
    "series_node = Series(image_node)\n",
    "grayscale_filter = RandomGrayscale(\"probability\")\n",
    "image_node.addfilter(grayscale_filter)\n",
    "\n",
    "params = {\"probability\" : 0.5}\n",
    "errorified = series_node.generate_error(data, params)\n",
    "\n",
    "plt.matshow(errorified[0])"
   ]
  },
  {
   "cell_type": "markdown",
   "metadata": {},
   "source": [
    "Just as we wanted it! Now, the only thing we are yet to understand is the \"named_dims\" parameter to \"apply\". For this, imagine our tuple of ten images is a video. We'll create a filter that turns more and more of the pixels in the images into grayscale as time progresses. The filter doesn't require much change for this, most of the new code is just randomizing the times at which individual pixels decay at given the halftime. Note that we make a copy of the random_state to ensure that we generate the same times for every image in the series."
   ]
  },
  {
   "cell_type": "code",
   "execution_count": 9,
   "metadata": {},
   "outputs": [],
   "source": [
    "from math import log\n",
    "from copy import deepcopy\n",
    "\n",
    "class DecayGrayscale(Filter):\n",
    "    def __init__(self, half_time_id):\n",
    "        super().__init__()\n",
    "        self.half_time_id = half_time_id\n",
    "    def apply(self, node_data, random_state, named_dims):\n",
    "        shape = (node_data.shape[0], node_data.shape[1])\n",
    "        times = deepcopy(random_state).exponential(scale=(self.half_time / log(2)), size=shape)\n",
    "        inds = times <= named_dims[\"time\"] # Which positions turn grayscale at or before the current time\n",
    "        avg = np.sum(node_data[inds], axis=-1) // 3\n",
    "        for ci in range(3):\n",
    "            node_data[inds, ci] = avg"
   ]
  },
  {
   "cell_type": "markdown",
   "metadata": {},
   "source": [
    "To use this filter, we'll have to tell the series-node that the dimension it is iterating over is called \"time\":"
   ]
  },
  {
   "cell_type": "code",
   "execution_count": 10,
   "metadata": {},
   "outputs": [],
   "source": [
    "image_node = Array()\n",
    "series_node = Series(image_node, \"time\")\n",
    "grayscale_filter = DecayGrayscale(\"half_time\")\n",
    "image_node.addfilter(grayscale_filter)\n",
    "\n",
    "params = {\"half_time\" : 1}\n",
    "errorified = series_node.generate_error(data, params)"
   ]
  },
  {
   "cell_type": "markdown",
   "metadata": {},
   "source": [
    "To show multiple images in the same plot, we'll have to do some more work:"
   ]
  },
  {
   "cell_type": "code",
   "execution_count": 11,
   "metadata": {},
   "outputs": [
    {
     "data": {
      "image/png": "[encoded data removed]",
      "text/plain": [
       "<Figure size 576x576 with 9 Axes>"
      ]
     },
     "metadata": {
      "needs_background": "light"
     },
     "output_type": "display_data"
    }
   ],
   "source": [
    "fig = plt.figure(figsize=(8, 8))\n",
    "for i in range(1, 9 + 1):\n",
    "    fig.add_subplot(3, 3, i)\n",
    "    plt.imshow(errorified[i-1])\n",
    "plt.show()"
   ]
  },
  {
   "cell_type": "markdown",
   "metadata": {},
   "source": [
    "And we have achieved the desired effect! This concludes the second tutorial. Hopefully you now understand how to use dpEmu to generate errors, and how to create your own filters for the error generation tree."
   ]
  },
  {
   "cell_type": "markdown",
   "metadata": {},
   "source": [
    "The notebook for this tutorial can be found [here](https://github.com/dpEmu/dpEmu/blob/master/docs/tutorials/Custom_Filters.ipynb)."
   ]
  }
 ],
 "metadata": {
  "kernelspec": {
   "display_name": "venv",
   "language": "python",
   "name": "venv"
  },
  "language_info": {
   "codemirror_mode": {
    "name": "ipython",
    "version": 3
   },
   "file_extension": ".py",
   "mimetype": "text/x-python",
   "name": "python",
   "nbconvert_exporter": "python",
   "pygments_lexer": "ipython3",
   "version": "3.7.4"
  },
  "pycharm": {
   "stem_cell": {
    "cell_type": "raw",
    "metadata": {
     "collapsed": false
    },
    "source": []
   }
  }
 },
 "nbformat": 4,
 "nbformat_minor": 2
}
